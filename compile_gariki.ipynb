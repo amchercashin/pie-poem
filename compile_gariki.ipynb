{
 "cells": [
  {
   "cell_type": "markdown",
   "metadata": {},
   "source": [
    "## Compile Gariki Model"
   ]
  },
  {
   "cell_type": "code",
   "execution_count": 1,
   "metadata": {
    "scrolled": true
   },
   "outputs": [
    {
     "name": "stderr",
     "output_type": "stream",
     "text": [
      "C:\\Users\\Drafter\\Anaconda3\\lib\\site-packages\\gensim\\utils.py:860: UserWarning: detected Windows; aliasing chunkize to chunkize_serial\n",
      "  warnings.warn(\"detected Windows; aliasing chunkize to chunkize_serial\")\n",
      "Slow version of gensim.models.doc2vec is being used\n"
     ]
    },
    {
     "name": "stdout",
     "output_type": "stream",
     "text": [
      "poem count: 3334\n",
      "making word bags...\n",
      "Parse(word='эа', tag=OpencorporaTag('UNKN'), normal_form='эа', score=1.0, methods_stack=((<UnknAnalyzer>, 'эа'),))\n",
      "Parse(word='фуя', tag=OpencorporaTag('UNKN'), normal_form='фуя', score=1.0, methods_stack=((<UnknAnalyzer>, 'фуя'),))\n",
      "Parse(word='жви', tag=OpencorporaTag('UNKN'), normal_form='жви', score=1.0, methods_stack=((<UnknAnalyzer>, 'жви'),))\n",
      "Parse(word='3а', tag=OpencorporaTag('UNKN'), normal_form='3а', score=1.0, methods_stack=((<UnknAnalyzer>, '3а'),))\n",
      "Parse(word='3а', tag=OpencorporaTag('UNKN'), normal_form='3а', score=1.0, methods_stack=((<UnknAnalyzer>, '3а'),))\n",
      "Parse(word='эа', tag=OpencorporaTag('UNKN'), normal_form='эа', score=1.0, methods_stack=((<UnknAnalyzer>, 'эа'),))\n",
      "Parse(word='3а', tag=OpencorporaTag('UNKN'), normal_form='3а', score=1.0, methods_stack=((<UnknAnalyzer>, '3а'),))\n",
      "Parse(word='эа', tag=OpencorporaTag('UNKN'), normal_form='эа', score=1.0, methods_stack=((<UnknAnalyzer>, 'эа'),))\n",
      "Parse(word='рав', tag=OpencorporaTag('UNKN'), normal_form='рав', score=1.0, methods_stack=((<UnknAnalyzer>, 'рав'),))\n",
      "Parse(word='3а', tag=OpencorporaTag('UNKN'), normal_form='3а', score=1.0, methods_stack=((<UnknAnalyzer>, '3а'),))\n",
      "Parse(word='3а', tag=OpencorporaTag('UNKN'), normal_form='3а', score=1.0, methods_stack=((<UnknAnalyzer>, '3а'),))\n",
      "Parse(word='кго', tag=OpencorporaTag('UNKN'), normal_form='кго', score=1.0, methods_stack=((<UnknAnalyzer>, 'кго'),))\n",
      "Parse(word='ка', tag=OpencorporaTag('UNKN'), normal_form='ка', score=1.0, methods_stack=((<UnknAnalyzer>, 'ка'),))\n",
      "Parse(word='зажгя', tag=OpencorporaTag('UNKN'), normal_form='зажгя', score=1.0, methods_stack=((<UnknAnalyzer>, 'жгя'), (<KnownPrefixAnalyzer>, 'за')))\n",
      "Parse(word='3а', tag=OpencorporaTag('UNKN'), normal_form='3а', score=1.0, methods_stack=((<UnknAnalyzer>, '3а'),))\n",
      "Parse(word='мй', tag=OpencorporaTag('UNKN'), normal_form='мй', score=1.0, methods_stack=((<UnknAnalyzer>, 'мй'),))\n",
      "Parse(word='зажгя', tag=OpencorporaTag('UNKN'), normal_form='зажгя', score=1.0, methods_stack=((<UnknAnalyzer>, 'жгя'), (<KnownPrefixAnalyzer>, 'за')))\n",
      "Parse(word='~', tag=OpencorporaTag('UNKN'), normal_form='~', score=1.0, methods_stack=((<UnknAnalyzer>, '~'),))\n",
      "Parse(word='ка', tag=OpencorporaTag('UNKN'), normal_form='ка', score=1.0, methods_stack=((<UnknAnalyzer>, 'ка'),))\n",
      "Parse(word='ешё', tag=OpencorporaTag('UNKN'), normal_form='ешё', score=1.0, methods_stack=((<UnknAnalyzer>, 'ешё'),))\n",
      "Parse(word='ц', tag=OpencorporaTag('UNKN'), normal_form='ц', score=1.0, methods_stack=((<UnknAnalyzer>, 'ц'),))\n"
     ]
    },
    {
     "name": "stderr",
     "output_type": "stream",
     "text": [
      "2017-06-20 13:22:42,328 : INFO : loading projection weights from c:/data/ruscorpora_1_300_10.bin.gz\n"
     ]
    },
    {
     "name": "stdout",
     "output_type": "stream",
     "text": [
      "loading w2v_model...\n"
     ]
    },
    {
     "name": "stderr",
     "output_type": "stream",
     "text": [
      "2017-06-20 13:22:59,463 : INFO : loaded (161301, 300) matrix from c:/data/ruscorpora_1_300_10.bin.gz\n"
     ]
    },
    {
     "name": "stdout",
     "output_type": "stream",
     "text": [
      "word2vec model 'c:/data/ruscorpora_1_300_10.bin.gz' loaded\n",
      "model is compiled\n"
     ]
    }
   ],
   "source": [
    "from poems_model import PoemsModel\n",
    "\n",
    "pm = PoemsModel()\n",
    "\n",
    "poems_file = './data/gariki.txt'\n",
    "# poems_file = './data/poems_33000.txt'\n",
    "w2v_file = 'c:/data/ruscorpora_1_300_10.bin.gz'\n",
    "\n",
    "pm.compile(poems_file, w2v_file)\n"
   ]
  },
  {
   "cell_type": "code",
   "execution_count": 2,
   "metadata": {
    "collapsed": true,
    "scrolled": true
   },
   "outputs": [],
   "source": [
    "pm.write('./data/gariki.pickle')"
   ]
  },
  {
   "cell_type": "code",
   "execution_count": 3,
   "metadata": {
    "scrolled": true
   },
   "outputs": [
    {
     "name": "stdout",
     "output_type": "stream",
     "text": [
      "reading pickle poems model...\n",
      "vectorizing model...\n",
      "model is loaded\n"
     ]
    },
    {
     "data": {
      "text/plain": [
       "['утучняется плоть,\\nиспаряется пыл.\\nгоды вышли на медленный ужин. \\nи приятно подумать, \\nчто все-таки был \\nи кому-то бывал я нужен.\\n',\n",
       " 'мне маркса жаль: его наследство\\nсвалилось в русскую купель:\\nздесь цель оправдывала средства, и \\nсредства обосрали цель.\\n',\n",
       " 'во благо классу-гегемону, \\nчтоб неослабно правил он,\\nво всякий миг доступен шмону \\nотдельно взятый гегемон.\\n',\n",
       " 'слой человека в нас чуть-чуть \\nнаслоен зыбко и тревожно,\\nлегко в скотину нас вернуть, \\nподнять обратно очень сложно.\\n',\n",
       " 'я молодых, в остатках сопель, \\nбоюсь, трясущих жизнь, как грушу,\\nв душе темно у них, как в жопе, \\nа в жопе - зуд  потешить душу.\\n',\n",
       " 'когда истории сквозняк \\nсвистит по душам и державам, \\nодин - ползет в нору слизняк, \\nдругой - вздувается удавом.\\n',\n",
       " 'добро, не отвергая средства зла, \\nпо ним и пожинает результаты;\\nв раю, где применяется смола, \\nархангелы копытны и рогаты.\\n',\n",
       " 'по крови проникая до корней, \\nпронизывая воздух небосвода, \\nневоля растлевает нас сильней, \\nчем самая беспутная свобода.\\n',\n",
       " 'перо и глаз держа в союзе,\\nя не напрасно хлеб свой ем:\\nроссия - гордиев санузел \\nострейших нынешних проблем.\\n',\n",
       " 'мне повезло: я знал страну, \\nодну-единственную в мире, \\nв своем же собственном плену \\nв своей живущую квартире.\\n']"
      ]
     },
     "execution_count": 3,
     "metadata": {},
     "output_type": "execute_result"
    }
   ],
   "source": [
    "pm.poems = []\n",
    "pm.read('./data/gariki.pickle')\n",
    "pm.poems[:10]"
   ]
  },
  {
   "cell_type": "markdown",
   "metadata": {},
   "source": [
    "## Load"
   ]
  },
  {
   "cell_type": "code",
   "execution_count": null,
   "metadata": {
    "scrolled": true
   },
   "outputs": [
    {
     "name": "stderr",
     "output_type": "stream",
     "text": [
      "2017-06-20 13:39:54,541 : INFO : loading projection weights from c:/data/ruscorpora_1_300_10.bin.gz\n"
     ]
    },
    {
     "name": "stdout",
     "output_type": "stream",
     "text": [
      "loading w2v_model...\n"
     ]
    }
   ],
   "source": [
    "from poems_model import PoemsModel\n",
    "\n",
    "poems_data_file = './data/gariki.pickle'\n",
    "w2v_file = 'c:/data/ruscorpora_1_300_10.bin.gz'\n",
    "\n",
    "pm = PoemsModel(poems_data_file, w2v_file)\n"
   ]
  },
  {
   "cell_type": "code",
   "execution_count": 19,
   "metadata": {},
   "outputs": [
    {
     "data": {
      "text/plain": [
       "3334"
      ]
     },
     "execution_count": 19,
     "metadata": {},
     "output_type": "execute_result"
    }
   ],
   "source": [
    "len(pm.poems)"
   ]
  },
  {
   "cell_type": "code",
   "execution_count": 19,
   "metadata": {
    "scrolled": true
   },
   "outputs": [
    {
     "name": "stdout",
     "output_type": "stream",
     "text": [
      "забавно желтеть, увядая, \n",
      "смотря без обиды пустой \n",
      "на то, как трава молодая \n",
      "смеется над палой листвой.\n",
      "\t0.29545256995718466\n",
      "едва лишь былое копни -\n",
      "и мёртвые птицы свистят,\n",
      "и дряхлые мшистые пни\n",
      "зелёной листвой шелестят.\n",
      "\t0.28149395779030867\n",
      "весной врастают в почву палки,\n",
      "шалеют кошки и коты,\n",
      "весной быки жуют фиалки,\n",
      "а пары ищут темноты.\n",
      "весной тупеют лбы ученые,\n",
      "и запах в городе лесной,\n",
      "и только в тюрьмах заключенные\n",
      "слабеют нервами весной.\n",
      "\t0.28058930945327965\n",
      "евреи всходят там,\n",
      "где их не сеяли,\n",
      "цветут и колосятся\n",
      "где не просят, \n",
      "растут из\n",
      "не посаженного семени\n",
      "и всюду\n",
      "безобразно плодоносят.\n",
      "\t0.258890694566545\n",
      "то ветра пронзительный вой,\n",
      "то бури косматая грива,\n",
      "и вечно трепещет листвой\n",
      "речная плакучая рива.\n",
      "\t0.25552500302285164\n",
      "посреди миропорядка\n",
      "есть везде, где я живу,\n",
      "и моя пустая грядка,\n",
      "я сажаю трын-траву.\n",
      "\t0.24971927381992293\n",
      "мы лето разве любим за жару?\n",
      "за мух? за комаров?\n",
      "намного проще:\n",
      "за летнюю повсюдную игру\n",
      "в кустах, на берегу и в каждой роще.\n",
      "\t0.24411988696110645\n",
      "среди воров и алкоголиков \n",
      "сижу я в каменном стакане, \n",
      "и незнакомка между столиков \n",
      "напрасно ходит в ресторане. \n",
      "дыша духами и туманами, \n",
      "из кабака идет в кабак \n",
      "и тихо плачет рядом с пьяными, \n",
      "что не найдет меня никак.\n",
      "\t0.24212699055061174\n",
      "растет лосось в саду на грядке, \n",
      "потек вином заглохший пруд;\n",
      "в российской жизни все в порядке;\n",
      "два педераста дочку ждут.\n",
      "\t0.24161823165421428\n",
      "уходят сыновья, задрав хвосты, \n",
      "и дочери томятся, дома сидя;\n",
      "мы садим семена, растим цветы, \n",
      "а после только ягодицы видим.\n",
      "\t0.2415754328981301\n"
     ]
    }
   ],
   "source": [
    "for poem, similarity in pm.similar_poems('крапива', topn=10): \n",
    "    print(f'{poem}\\t{similarity}')"
   ]
  },
  {
   "cell_type": "markdown",
   "metadata": {
    "heading_collapsed": true
   },
   "source": [
    "## Drafts"
   ]
  },
  {
   "cell_type": "code",
   "execution_count": 6,
   "metadata": {
    "hidden": true
   },
   "outputs": [
    {
     "data": {
      "text/plain": [
       "['утучняется плоть,\\nиспаряется пыл.\\nгоды вышли на медленный ужин. \\nи приятно подумать, \\nчто все-таки был \\nи кому-то бывал я нужен.\\n',\n",
       " 'мне маркса жаль: его наследство\\nсвалилось в русскую купель:\\nздесь цель оправдывала средства, и \\nсредства обосрали цель.\\n',\n",
       " 'во благо классу-гегемону, \\nчтоб неослабно правил он,\\nво всякий миг доступен шмону \\nотдельно взятый гегемон.\\n',\n",
       " 'слой человека в нас чуть-чуть \\nнаслоен зыбко и тревожно,\\nлегко в скотину нас вернуть, \\nподнять обратно очень сложно.\\n',\n",
       " 'я молодых, в остатках сопель, \\nбоюсь, трясущих жизнь, как грушу,\\nв душе темно у них, как в жопе, \\nа в жопе - зуд  потешить душу.\\n',\n",
       " 'когда истории сквозняк \\nсвистит по душам и державам, \\nодин - ползет в нору слизняк, \\nдругой - вздувается удавом.\\n',\n",
       " 'добро, не отвергая средства зла, \\nпо ним и пожинает результаты;\\nв раю, где применяется смола, \\nархангелы копытны и рогаты.\\n',\n",
       " 'по крови проникая до корней, \\nпронизывая воздух небосвода, \\nневоля растлевает нас сильней, \\nчем самая беспутная свобода.\\n',\n",
       " 'перо и глаз держа в союзе,\\nя не напрасно хлеб свой ем:\\nроссия - гордиев санузел \\nострейших нынешних проблем.\\n',\n",
       " 'мне повезло: я знал страну, \\nодну-единственную в мире, \\nв своем же собственном плену \\nв своей живущую квартире.\\n']"
      ]
     },
     "execution_count": 6,
     "metadata": {},
     "output_type": "execute_result"
    }
   ],
   "source": [
    "from poems_model import PoemsModel\n",
    "\n",
    "poems_file = './data/gariki.txt'\n",
    "pm = PoemsModel()\n",
    "pm.read_poems(poems_file)\n",
    "pm.poems[:10]"
   ]
  },
  {
   "cell_type": "code",
   "execution_count": 13,
   "metadata": {
    "hidden": true
   },
   "outputs": [
    {
     "data": {
      "text/plain": [
       "'утучняется плоть \\nиспаряется пыл \\nгоды вышли на медленный ужин  \\nи приятно подумать  \\nчто все таки был \\nи кому то бывал я нужен \\n'"
      ]
     },
     "execution_count": 13,
     "metadata": {},
     "output_type": "execute_result"
    }
   ],
   "source": [
    "import re\n",
    "re.sub(r',|\\.|!|\\?|;|\"|@|#|%|&|\\*|\\\\|/|:|\\+|-', ' ', pm.poems[0])"
   ]
  },
  {
   "cell_type": "code",
   "execution_count": 9,
   "metadata": {
    "hidden": true
   },
   "outputs": [
    {
     "data": {
      "text/plain": [
       "['утучняется',\n",
       " 'плоть,',\n",
       " 'испаряется',\n",
       " 'пыл.',\n",
       " 'годы',\n",
       " 'вышли',\n",
       " 'на',\n",
       " 'медленный',\n",
       " 'ужин.',\n",
       " 'и',\n",
       " 'приятно',\n",
       " 'подумать,',\n",
       " 'что',\n",
       " 'все-таки',\n",
       " 'был',\n",
       " 'и',\n",
       " 'кому-то',\n",
       " 'бывал',\n",
       " 'я',\n",
       " 'нужен.']"
      ]
     },
     "execution_count": 9,
     "metadata": {},
     "output_type": "execute_result"
    }
   ],
   "source": [
    "pm.poems[0].split()"
   ]
  },
  {
   "cell_type": "code",
   "execution_count": 5,
   "metadata": {
    "hidden": true
   },
   "outputs": [
    {
     "name": "stdout",
     "output_type": "stream",
     "text": [
      "Parse(word='ь', tag=OpencorporaTag('UNKN'), normal_form='ь', score=1.0, methods_stack=((<UnknAnalyzer>, 'ь'),))\n",
      "Parse(word='р', tag=OpencorporaTag('UNKN'), normal_form='р', score=1.0, methods_stack=((<UnknAnalyzer>, 'р'),))\n",
      "Parse(word='ш', tag=OpencorporaTag('UNKN'), normal_form='ш', score=1.0, methods_stack=((<UnknAnalyzer>, 'ш'),))\n",
      "Parse(word='й', tag=OpencorporaTag('UNKN'), normal_form='й', score=1.0, methods_stack=((<UnknAnalyzer>, 'й'),))\n",
      "Parse(word='р', tag=OpencorporaTag('UNKN'), normal_form='р', score=1.0, methods_stack=((<UnknAnalyzer>, 'р'),))\n",
      "Parse(word='ь', tag=OpencorporaTag('UNKN'), normal_form='ь', score=1.0, methods_stack=((<UnknAnalyzer>, 'ь'),))\n",
      "Parse(word='р', tag=OpencorporaTag('UNKN'), normal_form='р', score=1.0, methods_stack=((<UnknAnalyzer>, 'р'),))\n",
      "Parse(word='ь', tag=OpencorporaTag('UNKN'), normal_form='ь', score=1.0, methods_stack=((<UnknAnalyzer>, 'ь'),))\n",
      "Parse(word='ь', tag=OpencorporaTag('UNKN'), normal_form='ь', score=1.0, methods_stack=((<UnknAnalyzer>, 'ь'),))\n",
      "Parse(word='р', tag=OpencorporaTag('UNKN'), normal_form='р', score=1.0, methods_stack=((<UnknAnalyzer>, 'р'),))\n",
      "Parse(word='ю', tag=OpencorporaTag('UNKN'), normal_form='ю', score=1.0, methods_stack=((<UnknAnalyzer>, 'ю'),))\n",
      "Parse(word='ь', tag=OpencorporaTag('UNKN'), normal_form='ь', score=1.0, methods_stack=((<UnknAnalyzer>, 'ь'),))\n",
      "Parse(word='з', tag=OpencorporaTag('UNKN'), normal_form='з', score=1.0, methods_stack=((<UnknAnalyzer>, 'з'),))\n",
      "Parse(word='ь', tag=OpencorporaTag('UNKN'), normal_form='ь', score=1.0, methods_stack=((<UnknAnalyzer>, 'ь'),))\n",
      "Parse(word='ц', tag=OpencorporaTag('UNKN'), normal_form='ц', score=1.0, methods_stack=((<UnknAnalyzer>, 'ц'),))\n",
      "Parse(word='ь', tag=OpencorporaTag('UNKN'), normal_form='ь', score=1.0, methods_stack=((<UnknAnalyzer>, 'ь'),))\n",
      "Parse(word='р', tag=OpencorporaTag('UNKN'), normal_form='р', score=1.0, methods_stack=((<UnknAnalyzer>, 'р'),))\n",
      "Parse(word='р', tag=OpencorporaTag('UNKN'), normal_form='р', score=1.0, methods_stack=((<UnknAnalyzer>, 'р'),))\n",
      "Parse(word='р', tag=OpencorporaTag('UNKN'), normal_form='р', score=1.0, methods_stack=((<UnknAnalyzer>, 'р'),))\n",
      "Parse(word='р', tag=OpencorporaTag('UNKN'), normal_form='р', score=1.0, methods_stack=((<UnknAnalyzer>, 'р'),))\n",
      "Parse(word='ц', tag=OpencorporaTag('UNKN'), normal_form='ц', score=1.0, methods_stack=((<UnknAnalyzer>, 'ц'),))\n",
      "Parse(word='ь', tag=OpencorporaTag('UNKN'), normal_form='ь', score=1.0, methods_stack=((<UnknAnalyzer>, 'ь'),))\n",
      "Parse(word='р', tag=OpencorporaTag('UNKN'), normal_form='р', score=1.0, methods_stack=((<UnknAnalyzer>, 'р'),))\n",
      "Parse(word='й', tag=OpencorporaTag('UNKN'), normal_form='й', score=1.0, methods_stack=((<UnknAnalyzer>, 'й'),))\n",
      "Parse(word='ш', tag=OpencorporaTag('UNKN'), normal_form='ш', score=1.0, methods_stack=((<UnknAnalyzer>, 'ш'),))\n",
      "Parse(word='ь', tag=OpencorporaTag('UNKN'), normal_form='ь', score=1.0, methods_stack=((<UnknAnalyzer>, 'ь'),))\n",
      "Parse(word='з', tag=OpencorporaTag('UNKN'), normal_form='з', score=1.0, methods_stack=((<UnknAnalyzer>, 'з'),))\n",
      "Parse(word='й', tag=OpencorporaTag('UNKN'), normal_form='й', score=1.0, methods_stack=((<UnknAnalyzer>, 'й'),))\n",
      "Parse(word='й', tag=OpencorporaTag('UNKN'), normal_form='й', score=1.0, methods_stack=((<UnknAnalyzer>, 'й'),))\n",
      "Parse(word='ь', tag=OpencorporaTag('UNKN'), normal_form='ь', score=1.0, methods_stack=((<UnknAnalyzer>, 'ь'),))\n",
      "Parse(word='ь', tag=OpencorporaTag('UNKN'), normal_form='ь', score=1.0, methods_stack=((<UnknAnalyzer>, 'ь'),))\n",
      "Parse(word='з', tag=OpencorporaTag('UNKN'), normal_form='з', score=1.0, methods_stack=((<UnknAnalyzer>, 'з'),))\n",
      "Parse(word='р', tag=OpencorporaTag('UNKN'), normal_form='р', score=1.0, methods_stack=((<UnknAnalyzer>, 'р'),))\n",
      "Parse(word='р', tag=OpencorporaTag('UNKN'), normal_form='р', score=1.0, methods_stack=((<UnknAnalyzer>, 'р'),))\n",
      "Parse(word='ь', tag=OpencorporaTag('UNKN'), normal_form='ь', score=1.0, methods_stack=((<UnknAnalyzer>, 'ь'),))\n",
      "Parse(word='ь', tag=OpencorporaTag('UNKN'), normal_form='ь', score=1.0, methods_stack=((<UnknAnalyzer>, 'ь'),))\n",
      "Parse(word='р', tag=OpencorporaTag('UNKN'), normal_form='р', score=1.0, methods_stack=((<UnknAnalyzer>, 'р'),))\n",
      "Parse(word='ь', tag=OpencorporaTag('UNKN'), normal_form='ь', score=1.0, methods_stack=((<UnknAnalyzer>, 'ь'),))\n",
      "Parse(word='х', tag=OpencorporaTag('UNKN'), normal_form='х', score=1.0, methods_stack=((<UnknAnalyzer>, 'х'),))\n",
      "Parse(word='х', tag=OpencorporaTag('UNKN'), normal_form='х', score=1.0, methods_stack=((<UnknAnalyzer>, 'х'),))\n",
      "Parse(word='ь', tag=OpencorporaTag('UNKN'), normal_form='ь', score=1.0, methods_stack=((<UnknAnalyzer>, 'ь'),))\n",
      "Parse(word='ю', tag=OpencorporaTag('UNKN'), normal_form='ю', score=1.0, methods_stack=((<UnknAnalyzer>, 'ю'),))\n",
      "Parse(word='ь', tag=OpencorporaTag('UNKN'), normal_form='ь', score=1.0, methods_stack=((<UnknAnalyzer>, 'ь'),))\n",
      "Parse(word='р', tag=OpencorporaTag('UNKN'), normal_form='р', score=1.0, methods_stack=((<UnknAnalyzer>, 'р'),))\n",
      "Parse(word='щ', tag=OpencorporaTag('UNKN'), normal_form='щ', score=1.0, methods_stack=((<UnknAnalyzer>, 'щ'),))\n",
      "Parse(word='х', tag=OpencorporaTag('UNKN'), normal_form='х', score=1.0, methods_stack=((<UnknAnalyzer>, 'х'),))\n",
      "Parse(word='з', tag=OpencorporaTag('UNKN'), normal_form='з', score=1.0, methods_stack=((<UnknAnalyzer>, 'з'),))\n",
      "Parse(word='ь', tag=OpencorporaTag('UNKN'), normal_form='ь', score=1.0, methods_stack=((<UnknAnalyzer>, 'ь'),))\n",
      "Parse(word='р', tag=OpencorporaTag('UNKN'), normal_form='р', score=1.0, methods_stack=((<UnknAnalyzer>, 'р'),))\n",
      "Parse(word='ш', tag=OpencorporaTag('UNKN'), normal_form='ш', score=1.0, methods_stack=((<UnknAnalyzer>, 'ш'),))\n",
      "Parse(word='ш', tag=OpencorporaTag('UNKN'), normal_form='ш', score=1.0, methods_stack=((<UnknAnalyzer>, 'ш'),))\n",
      "Parse(word='х', tag=OpencorporaTag('UNKN'), normal_form='х', score=1.0, methods_stack=((<UnknAnalyzer>, 'х'),))\n",
      "Parse(word='з', tag=OpencorporaTag('UNKN'), normal_form='з', score=1.0, methods_stack=((<UnknAnalyzer>, 'з'),))\n",
      "Parse(word='ш', tag=OpencorporaTag('UNKN'), normal_form='ш', score=1.0, methods_stack=((<UnknAnalyzer>, 'ш'),))\n",
      "Parse(word='ь', tag=OpencorporaTag('UNKN'), normal_form='ь', score=1.0, methods_stack=((<UnknAnalyzer>, 'ь'),))\n",
      "Parse(word='ш', tag=OpencorporaTag('UNKN'), normal_form='ш', score=1.0, methods_stack=((<UnknAnalyzer>, 'ш'),))\n",
      "Parse(word='р', tag=OpencorporaTag('UNKN'), normal_form='р', score=1.0, methods_stack=((<UnknAnalyzer>, 'р'),))\n",
      "Parse(word='з', tag=OpencorporaTag('UNKN'), normal_form='з', score=1.0, methods_stack=((<UnknAnalyzer>, 'з'),))\n",
      "Parse(word='ш', tag=OpencorporaTag('UNKN'), normal_form='ш', score=1.0, methods_stack=((<UnknAnalyzer>, 'ш'),))\n",
      "Parse(word='р', tag=OpencorporaTag('UNKN'), normal_form='р', score=1.0, methods_stack=((<UnknAnalyzer>, 'р'),))\n",
      "Parse(word='з', tag=OpencorporaTag('UNKN'), normal_form='з', score=1.0, methods_stack=((<UnknAnalyzer>, 'з'),))\n",
      "Parse(word='р', tag=OpencorporaTag('UNKN'), normal_form='р', score=1.0, methods_stack=((<UnknAnalyzer>, 'р'),))\n",
      "Parse(word='з', tag=OpencorporaTag('UNKN'), normal_form='з', score=1.0, methods_stack=((<UnknAnalyzer>, 'з'),))\n",
      "Parse(word='р', tag=OpencorporaTag('UNKN'), normal_form='р', score=1.0, methods_stack=((<UnknAnalyzer>, 'р'),))\n",
      "Parse(word='й', tag=OpencorporaTag('UNKN'), normal_form='й', score=1.0, methods_stack=((<UnknAnalyzer>, 'й'),))\n",
      "Parse(word='з', tag=OpencorporaTag('UNKN'), normal_form='з', score=1.0, methods_stack=((<UnknAnalyzer>, 'з'),))\n",
      "Parse(word='р', tag=OpencorporaTag('UNKN'), normal_form='р', score=1.0, methods_stack=((<UnknAnalyzer>, 'р'),))\n",
      "Parse(word='р', tag=OpencorporaTag('UNKN'), normal_form='р', score=1.0, methods_stack=((<UnknAnalyzer>, 'р'),))\n",
      "Parse(word='р', tag=OpencorporaTag('UNKN'), normal_form='р', score=1.0, methods_stack=((<UnknAnalyzer>, 'р'),))\n",
      "Parse(word='з', tag=OpencorporaTag('UNKN'), normal_form='з', score=1.0, methods_stack=((<UnknAnalyzer>, 'з'),))\n",
      "Parse(word='р', tag=OpencorporaTag('UNKN'), normal_form='р', score=1.0, methods_stack=((<UnknAnalyzer>, 'р'),))\n",
      "Parse(word='з', tag=OpencorporaTag('UNKN'), normal_form='з', score=1.0, methods_stack=((<UnknAnalyzer>, 'з'),))\n",
      "Parse(word='ь', tag=OpencorporaTag('UNKN'), normal_form='ь', score=1.0, methods_stack=((<UnknAnalyzer>, 'ь'),))\n",
      "Parse(word='р', tag=OpencorporaTag('UNKN'), normal_form='р', score=1.0, methods_stack=((<UnknAnalyzer>, 'р'),))\n",
      "Parse(word='ю', tag=OpencorporaTag('UNKN'), normal_form='ю', score=1.0, methods_stack=((<UnknAnalyzer>, 'ю'),))\n",
      "Parse(word='р', tag=OpencorporaTag('UNKN'), normal_form='р', score=1.0, methods_stack=((<UnknAnalyzer>, 'р'),))\n",
      "Parse(word='р', tag=OpencorporaTag('UNKN'), normal_form='р', score=1.0, methods_stack=((<UnknAnalyzer>, 'р'),))\n",
      "Parse(word='х', tag=OpencorporaTag('UNKN'), normal_form='х', score=1.0, methods_stack=((<UnknAnalyzer>, 'х'),))\n",
      "Parse(word='р', tag=OpencorporaTag('UNKN'), normal_form='р', score=1.0, methods_stack=((<UnknAnalyzer>, 'р'),))\n",
      "Parse(word='р', tag=OpencorporaTag('UNKN'), normal_form='р', score=1.0, methods_stack=((<UnknAnalyzer>, 'р'),))\n",
      "Parse(word='р', tag=OpencorporaTag('UNKN'), normal_form='р', score=1.0, methods_stack=((<UnknAnalyzer>, 'р'),))\n",
      "Parse(word='р', tag=OpencorporaTag('UNKN'), normal_form='р', score=1.0, methods_stack=((<UnknAnalyzer>, 'р'),))\n",
      "Parse(word='й', tag=OpencorporaTag('UNKN'), normal_form='й', score=1.0, methods_stack=((<UnknAnalyzer>, 'й'),))\n",
      "Parse(word='р', tag=OpencorporaTag('UNKN'), normal_form='р', score=1.0, methods_stack=((<UnknAnalyzer>, 'р'),))\n",
      "Parse(word='з', tag=OpencorporaTag('UNKN'), normal_form='з', score=1.0, methods_stack=((<UnknAnalyzer>, 'з'),))\n",
      "Parse(word='з', tag=OpencorporaTag('UNKN'), normal_form='з', score=1.0, methods_stack=((<UnknAnalyzer>, 'з'),))\n",
      "Parse(word='х', tag=OpencorporaTag('UNKN'), normal_form='х', score=1.0, methods_stack=((<UnknAnalyzer>, 'х'),))\n",
      "Parse(word='р', tag=OpencorporaTag('UNKN'), normal_form='р', score=1.0, methods_stack=((<UnknAnalyzer>, 'р'),))\n",
      "Parse(word='ь', tag=OpencorporaTag('UNKN'), normal_form='ь', score=1.0, methods_stack=((<UnknAnalyzer>, 'ь'),))\n",
      "Parse(word='й', tag=OpencorporaTag('UNKN'), normal_form='й', score=1.0, methods_stack=((<UnknAnalyzer>, 'й'),))\n",
      "Parse(word='р', tag=OpencorporaTag('UNKN'), normal_form='р', score=1.0, methods_stack=((<UnknAnalyzer>, 'р'),))\n",
      "Parse(word='з', tag=OpencorporaTag('UNKN'), normal_form='з', score=1.0, methods_stack=((<UnknAnalyzer>, 'з'),))\n",
      "Parse(word='р', tag=OpencorporaTag('UNKN'), normal_form='р', score=1.0, methods_stack=((<UnknAnalyzer>, 'р'),))\n",
      "Parse(word='ю', tag=OpencorporaTag('UNKN'), normal_form='ю', score=1.0, methods_stack=((<UnknAnalyzer>, 'ю'),))\n",
      "Parse(word='з', tag=OpencorporaTag('UNKN'), normal_form='з', score=1.0, methods_stack=((<UnknAnalyzer>, 'з'),))\n",
      "Parse(word='р', tag=OpencorporaTag('UNKN'), normal_form='р', score=1.0, methods_stack=((<UnknAnalyzer>, 'р'),))\n",
      "Parse(word='х', tag=OpencorporaTag('UNKN'), normal_form='х', score=1.0, methods_stack=((<UnknAnalyzer>, 'х'),))\n",
      "Parse(word='й', tag=OpencorporaTag('UNKN'), normal_form='й', score=1.0, methods_stack=((<UnknAnalyzer>, 'й'),))\n",
      "Parse(word='р', tag=OpencorporaTag('UNKN'), normal_form='р', score=1.0, methods_stack=((<UnknAnalyzer>, 'р'),))\n",
      "Parse(word='р', tag=OpencorporaTag('UNKN'), normal_form='р', score=1.0, methods_stack=((<UnknAnalyzer>, 'р'),))\n",
      "Parse(word='з', tag=OpencorporaTag('UNKN'), normal_form='з', score=1.0, methods_stack=((<UnknAnalyzer>, 'з'),))\n",
      "Parse(word='р', tag=OpencorporaTag('UNKN'), normal_form='р', score=1.0, methods_stack=((<UnknAnalyzer>, 'р'),))\n",
      "Parse(word='й', tag=OpencorporaTag('UNKN'), normal_form='й', score=1.0, methods_stack=((<UnknAnalyzer>, 'й'),))\n",
      "Parse(word='ш', tag=OpencorporaTag('UNKN'), normal_form='ш', score=1.0, methods_stack=((<UnknAnalyzer>, 'ш'),))\n",
      "Parse(word='х', tag=OpencorporaTag('UNKN'), normal_form='х', score=1.0, methods_stack=((<UnknAnalyzer>, 'х'),))\n",
      "Parse(word='ш', tag=OpencorporaTag('UNKN'), normal_form='ш', score=1.0, methods_stack=((<UnknAnalyzer>, 'ш'),))\n",
      "Parse(word='х', tag=OpencorporaTag('UNKN'), normal_form='х', score=1.0, methods_stack=((<UnknAnalyzer>, 'х'),))\n",
      "Parse(word='р', tag=OpencorporaTag('UNKN'), normal_form='р', score=1.0, methods_stack=((<UnknAnalyzer>, 'р'),))\n",
      "Parse(word='з', tag=OpencorporaTag('UNKN'), normal_form='з', score=1.0, methods_stack=((<UnknAnalyzer>, 'з'),))\n",
      "Parse(word='з', tag=OpencorporaTag('UNKN'), normal_form='з', score=1.0, methods_stack=((<UnknAnalyzer>, 'з'),))\n",
      "Parse(word='р', tag=OpencorporaTag('UNKN'), normal_form='р', score=1.0, methods_stack=((<UnknAnalyzer>, 'р'),))\n",
      "Parse(word='ю', tag=OpencorporaTag('UNKN'), normal_form='ю', score=1.0, methods_stack=((<UnknAnalyzer>, 'ю'),))\n",
      "Parse(word='р', tag=OpencorporaTag('UNKN'), normal_form='р', score=1.0, methods_stack=((<UnknAnalyzer>, 'р'),))\n",
      "Parse(word='й', tag=OpencorporaTag('UNKN'), normal_form='й', score=1.0, methods_stack=((<UnknAnalyzer>, 'й'),))\n",
      "Parse(word='щ', tag=OpencorporaTag('UNKN'), normal_form='щ', score=1.0, methods_stack=((<UnknAnalyzer>, 'щ'),))\n",
      "Parse(word='ю', tag=OpencorporaTag('UNKN'), normal_form='ю', score=1.0, methods_stack=((<UnknAnalyzer>, 'ю'),))\n",
      "Parse(word='р', tag=OpencorporaTag('UNKN'), normal_form='р', score=1.0, methods_stack=((<UnknAnalyzer>, 'р'),))\n",
      "Parse(word='р', tag=OpencorporaTag('UNKN'), normal_form='р', score=1.0, methods_stack=((<UnknAnalyzer>, 'р'),))\n"
     ]
    },
    {
     "data": {
      "text/plain": [
       "([['число_NOUN',\n",
       "   'е_NOUN',\n",
       "   'пункт_NOUN',\n",
       "   'лошадиный_ADJ',\n",
       "   'ы_NOUN',\n",
       "   'год_NOUN',\n",
       "   'далее_ADV',\n",
       "   'метр_NOUN',\n",
       "   'б_NOUN'],\n",
       "  ['метр_NOUN',\n",
       "   'е_NOUN',\n",
       "   'лошадиный_ADJ',\n",
       "   'год_NOUN',\n",
       "   'далее_ADV',\n",
       "   'пункт_NOUN',\n",
       "   'ы_NOUN',\n",
       "   'б_NOUN'],\n",
       "  ['б_NOUN',\n",
       "   'лошадиный_ADJ',\n",
       "   'год_NOUN',\n",
       "   'е_NOUN',\n",
       "   'метр_NOUN',\n",
       "   'число_NOUN',\n",
       "   'пункт_NOUN',\n",
       "   'далее_ADV',\n",
       "   'ы_NOUN'],\n",
       "  ['лошадиный_ADJ',\n",
       "   'число_NOUN',\n",
       "   'е_NOUN',\n",
       "   'ы_NOUN',\n",
       "   'б_NOUN',\n",
       "   'год_NOUN',\n",
       "   'пункт_NOUN',\n",
       "   'далее_ADV'],\n",
       "  ['метр_NOUN',\n",
       "   'лошадиный_ADJ',\n",
       "   'далее_ADV',\n",
       "   'ы_NOUN',\n",
       "   'пункт_NOUN',\n",
       "   'е_NOUN',\n",
       "   'б_NOUN',\n",
       "   'год_NOUN'],\n",
       "  ['год_NOUN',\n",
       "   'далее_ADV',\n",
       "   'пункт_NOUN',\n",
       "   'метр_NOUN',\n",
       "   'е_NOUN',\n",
       "   'лошадиный_ADJ'],\n",
       "  ['далее_ADV',\n",
       "   'б_NOUN',\n",
       "   'е_NOUN',\n",
       "   'год_NOUN',\n",
       "   'лошадиный_ADJ',\n",
       "   'пункт_NOUN',\n",
       "   'метр_NOUN',\n",
       "   'ы_NOUN'],\n",
       "  ['пункт_NOUN',\n",
       "   'далее_ADV',\n",
       "   'е_NOUN',\n",
       "   'ы_NOUN',\n",
       "   'б_NOUN',\n",
       "   'лошадиный_ADJ',\n",
       "   'число_NOUN',\n",
       "   'метр_NOUN'],\n",
       "  ['пункт_NOUN',\n",
       "   'е_NOUN',\n",
       "   'год_NOUN',\n",
       "   'лошадиный_ADJ',\n",
       "   'далее_ADV',\n",
       "   'б_NOUN',\n",
       "   'метр_NOUN',\n",
       "   'ы_NOUN'],\n",
       "  ['метр_NOUN',\n",
       "   'е_NOUN',\n",
       "   'пункт_NOUN',\n",
       "   'лошадиный_ADJ',\n",
       "   'далее_ADV',\n",
       "   'б_NOUN']],\n",
       " {'б_NOUN': 16,\n",
       "  'год_NOUN': 18,\n",
       "  'далее_ADV': 33,\n",
       "  'е_NOUN': 77,\n",
       "  'лошадиный_ADJ': 43,\n",
       "  'метр_NOUN': 25,\n",
       "  'пункт_NOUN': 29,\n",
       "  'число_NOUN': 8,\n",
       "  'ы_NOUN': 17})"
      ]
     },
     "execution_count": 5,
     "metadata": {},
     "output_type": "execute_result"
    }
   ],
   "source": [
    "pm.make_bags(pm.poems[:10])"
   ]
  }
 ],
 "metadata": {
  "kernelspec": {
   "display_name": "Python 3",
   "language": "python",
   "name": "python3"
  },
  "language_info": {
   "codemirror_mode": {
    "name": "ipython",
    "version": 3
   },
   "file_extension": ".py",
   "mimetype": "text/x-python",
   "name": "python",
   "nbconvert_exporter": "python",
   "pygments_lexer": "ipython3",
   "version": "3.6.1"
  }
 },
 "nbformat": 4,
 "nbformat_minor": 1
}
