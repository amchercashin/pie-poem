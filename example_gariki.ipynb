{
 "cells": [
  {
   "cell_type": "markdown",
   "metadata": {},
   "source": [
    "# Игорь Губерман - дистрибутивно-семантический поиск по \"гарикам\""
   ]
  },
  {
   "cell_type": "markdown",
   "metadata": {
    "collapsed": true
   },
   "source": [
    "## Загрузка моделей"
   ]
  },
  {
   "cell_type": "code",
   "execution_count": 1,
   "metadata": {},
   "outputs": [
    {
     "name": "stderr",
     "output_type": "stream",
     "text": [
      "C:\\Users\\Drafter\\Anaconda3\\lib\\site-packages\\gensim\\utils.py:860: UserWarning: detected Windows; aliasing chunkize to chunkize_serial\n",
      "  warnings.warn(\"detected Windows; aliasing chunkize to chunkize_serial\")\n",
      "Slow version of gensim.models.doc2vec is being used\n",
      "2017-06-20 16:51:08,231 : INFO : loading projection weights from c:/data/ruscorpora_1_300_10.bin.gz\n"
     ]
    },
    {
     "name": "stdout",
     "output_type": "stream",
     "text": [
      "loading w2v_model...\n"
     ]
    },
    {
     "name": "stderr",
     "output_type": "stream",
     "text": [
      "2017-06-20 16:51:25,499 : INFO : loaded (161301, 300) matrix from c:/data/ruscorpora_1_300_10.bin.gz\n"
     ]
    },
    {
     "name": "stdout",
     "output_type": "stream",
     "text": [
      "word2vec model 'c:/data/ruscorpora_1_300_10.bin.gz' loaded\n",
      "reading pickle poems model...\n",
      "vectorizing model...\n",
      "model is loaded\n"
     ]
    }
   ],
   "source": [
    "from poems_model import PoemsModel\n",
    "\n",
    "poems_data_file = './data/gariki.pickle'\n",
    "w2v_file = 'c:/data/ruscorpora_1_300_10.bin.gz'\n",
    "\n",
    "pm = PoemsModel(poems_data_file, w2v_file)\n"
   ]
  },
  {
   "cell_type": "markdown",
   "metadata": {
    "collapsed": true
   },
   "source": [
    "## Формирование запроса"
   ]
  },
  {
   "cell_type": "code",
   "execution_count": 4,
   "metadata": {
    "collapsed": true
   },
   "outputs": [],
   "source": [
    "# Python 3.6\n",
    "\n",
    "def print_similar(query: str) -> None:\n",
    "    for poem, similarity in pm.similar_poems(query, topn=10): \n",
    "        print(f'{poem}\\t{similarity}')"
   ]
  },
  {
   "cell_type": "code",
   "execution_count": 5,
   "metadata": {},
   "outputs": [
    {
     "name": "stdout",
     "output_type": "stream",
     "text": [
      "два смысла в жизни - внутренний и внешний;\n",
      "у внешнего - дела, семья, успех,\n",
      "а внутренний - неясный и нездешний -\n",
      "в ответственности каждого за всех.\n",
      "\t0.5603244192466229\n",
      "грешил я, не ведая меры,\n",
      "но богу я нужен такой:\n",
      "чужие дурные примеры\n",
      "всем дарят душевный покой. \n",
      "с яростью и пылом идиота\n",
      "силюсь я в потуге холостой\n",
      "думать, что рождён я для чего-то,\n",
      "а не по случайности пустой.\n",
      "\t0.5449526404824241\n",
      "характер мира - символический,\n",
      "но как мы смыслы ни толкуй,\n",
      "а символ истинно фаллический\n",
      "и безусловный - только хуй.\n",
      "\t0.5357280969619751\n",
      "декарт существовал, поскольку мыслил, \n",
      "умея средства к жизни добывать, \n",
      "а я хотя и мыслю в этом смысле, \n",
      "но этим не могу существовать.\n",
      "\t0.533095329225792\n",
      "созерцатель и свидетель,\n",
      "я по жизни зря кочую,\n",
      "я не славлю добродетель\n",
      "и пороки не бичую.\n",
      "посторонен я настолько,\n",
      "что и чувствую иначе:\n",
      "видя зло - смеюсь я горько,\n",
      "а добру внимаю - плача.\n",
      "\t0.5299467375096354\n",
      "черты похожести типичной\n",
      "есть у любви, семьи, разлуки -\n",
      "творец, лишённый жизни личной,\n",
      "играет нашими со скуки.\n",
      "\t0.5278003987711382\n",
      "а верю я всему покамест:\n",
      "наступит светлая пора,\n",
      "детей в семью приносит аист,\n",
      "вожди желают нам добра. \n",
      "сон был такой: небес абориген,\n",
      "в земном существовании - сенека\n",
      "смеялся, что несчастный диоген\n",
      "и здесь напрасно ищет человека.\n",
      "\t0.5244661335150071\n",
      "дурная получилась нынче ночь:\n",
      "не спится, тянет выпить и в дорогу;\n",
      "а божий мир улучшить я не прочь,\n",
      "но как - совсем не знаю, слава богу. \n",
      "души напрасная растрава,\n",
      "растрата времени и сил -\n",
      "свободой даренное право\n",
      "на то, чего ты не просил.\n",
      "\t0.5213321596429321\n",
      "прекрасен мир, судьба права,\n",
      "полна блаженства жизнь земная,\n",
      "и всё на свете трын-трава,\n",
      "когда проходит боль зубная.\n",
      "\t0.5191729202266555\n",
      "российской бурной жизни непонятность\n",
      "нельзя считать ни крахом, ни концом, \n",
      "я вижу в ней возможность, \n",
      "вероятность, стихию с человеческим яйцом.\n",
      "\t0.5166792763022929\n"
     ]
    }
   ],
   "source": [
    "print_similar('смысл жизни')"
   ]
  }
 ],
 "metadata": {
  "kernelspec": {
   "display_name": "Python 3",
   "language": "python",
   "name": "python3"
  },
  "language_info": {
   "codemirror_mode": {
    "name": "ipython",
    "version": 3
   },
   "file_extension": ".py",
   "mimetype": "text/x-python",
   "name": "python",
   "nbconvert_exporter": "python",
   "pygments_lexer": "ipython3",
   "version": "3.6.1"
  }
 },
 "nbformat": 4,
 "nbformat_minor": 2
}
