{
 "cells": [
  {
   "cell_type": "markdown",
   "metadata": {},
   "source": [
    "## Compile model"
   ]
  },
  {
   "cell_type": "code",
   "execution_count": 2,
   "metadata": {
    "scrolled": true
   },
   "outputs": [
    {
     "name": "stderr",
     "output_type": "stream",
     "text": [
      "C:\\Anaconda3\\lib\\site-packages\\gensim\\utils.py:860: UserWarning: detected Windows; aliasing chunkize to chunkize_serial\n",
      "  warnings.warn(\"detected Windows; aliasing chunkize to chunkize_serial\")\n",
      "Slow version of gensim.models.doc2vec is being used\n"
     ]
    },
    {
     "name": "stdout",
     "output_type": "stream",
     "text": [
      "poem count: 7509\n",
      "making word bags...\n",
      "Parse(word='еси', tag=OpencorporaTag('UNKN'), normal_form='еси', score=1.0, methods_stack=((<UnknAnalyzer>, 'еси'),))\n",
      "Parse(word='хэ', tag=OpencorporaTag('UNKN'), normal_form='хэ', score=1.0, methods_stack=((<UnknAnalyzer>, 'хэ'),))\n",
      "Parse(word='ёг', tag=OpencorporaTag('UNKN'), normal_form='ёг', score=1.0, methods_stack=((<UnknAnalyzer>, 'ёг'),))\n",
      "Parse(word='чо', tag=OpencorporaTag('UNKN'), normal_form='чо', score=1.0, methods_stack=((<UnknAnalyzer>, 'чо'),))\n",
      "Parse(word='чо', tag=OpencorporaTag('UNKN'), normal_form='чо', score=1.0, methods_stack=((<UnknAnalyzer>, 'чо'),))\n",
      "Parse(word='нью', tag=OpencorporaTag('UNKN'), normal_form='нью', score=1.0, methods_stack=((<UnknAnalyzer>, 'нью'),))\n",
      "Parse(word='сэн', tag=OpencorporaTag('UNKN'), normal_form='сэн', score=1.0, methods_stack=((<UnknAnalyzer>, 'сэн'),))\n",
      "Parse(word='нео', tag=OpencorporaTag('UNKN'), normal_form='нео', score=1.0, methods_stack=((<UnknAnalyzer>, 'нео'),))\n",
      "Parse(word='ща', tag=OpencorporaTag('UNKN'), normal_form='ща', score=1.0, methods_stack=((<UnknAnalyzer>, 'ща'),))\n",
      "Parse(word='зай', tag=OpencorporaTag('UNKN'), normal_form='зай', score=1.0, methods_stack=((<UnknAnalyzer>, 'зай'),))\n",
      "Parse(word='дэ', tag=OpencorporaTag('UNKN'), normal_form='дэ', score=1.0, methods_stack=((<UnknAnalyzer>, 'дэ'),))\n",
      "Parse(word='тэ', tag=OpencorporaTag('UNKN'), normal_form='тэ', score=1.0, methods_stack=((<UnknAnalyzer>, 'тэ'),))\n",
      "Parse(word='зачот', tag=OpencorporaTag('UNKN'), normal_form='зачот', score=1.0, methods_stack=((<UnknAnalyzer>, 'чот'), (<KnownPrefixAnalyzer>, 'за')))\n",
      "Parse(word='шён', tag=OpencorporaTag('UNKN'), normal_form='шён', score=1.0, methods_stack=((<UnknAnalyzer>, 'шён'),))\n",
      "Parse(word='йа', tag=OpencorporaTag('UNKN'), normal_form='йа', score=1.0, methods_stack=((<UnknAnalyzer>, 'йа'),))\n",
      "Parse(word='недоёба', tag=OpencorporaTag('UNKN'), normal_form='недоёба', score=1.0, methods_stack=((<UnknAnalyzer>, 'ёба'), (<KnownPrefixAnalyzer>, 'недо')))\n",
      "Parse(word='ещо', tag=OpencorporaTag('UNKN'), normal_form='ещо', score=1.0, methods_stack=((<UnknAnalyzer>, 'ещо'),))\n",
      "Parse(word='ю', tag=OpencorporaTag('UNKN'), normal_form='ю', score=1.0, methods_stack=((<UnknAnalyzer>, 'ю'),))\n",
      "Parse(word='чом', tag=OpencorporaTag('UNKN'), normal_form='чом', score=1.0, methods_stack=((<UnknAnalyzer>, 'чом'),))\n",
      "Parse(word='жэ', tag=OpencorporaTag('UNKN'), normal_form='жэ', score=1.0, methods_stack=((<UnknAnalyzer>, 'жэ'),))\n",
      "Parse(word='чмо', tag=OpencorporaTag('UNKN'), normal_form='чмо', score=1.0, methods_stack=((<UnknAnalyzer>, 'чмо'),))\n",
      "Parse(word='ево', tag=OpencorporaTag('UNKN'), normal_form='ево', score=1.0, methods_stack=((<UnknAnalyzer>, 'ево'),))\n",
      "Parse(word='ка', tag=OpencorporaTag('UNKN'), normal_form='ка', score=1.0, methods_stack=((<UnknAnalyzer>, 'ка'),))\n",
      "Parse(word='ещо', tag=OpencorporaTag('UNKN'), normal_form='ещо', score=1.0, methods_stack=((<UnknAnalyzer>, 'ещо'),))\n",
      "Parse(word='кэ', tag=OpencorporaTag('UNKN'), normal_form='кэ', score=1.0, methods_stack=((<UnknAnalyzer>, 'кэ'),))\n",
      "Parse(word='ка', tag=OpencorporaTag('UNKN'), normal_form='ка', score=1.0, methods_stack=((<UnknAnalyzer>, 'ка'),))\n",
      "Parse(word='ду', tag=OpencorporaTag('UNKN'), normal_form='ду', score=1.0, methods_stack=((<UnknAnalyzer>, 'ду'),))\n",
      "Parse(word='ду', tag=OpencorporaTag('UNKN'), normal_form='ду', score=1.0, methods_stack=((<UnknAnalyzer>, 'ду'),))\n",
      "Parse(word='ё', tag=OpencorporaTag('UNKN'), normal_form='ё', score=1.0, methods_stack=((<UnknAnalyzer>, 'ё'),))\n",
      "Parse(word='жэ', tag=OpencorporaTag('UNKN'), normal_form='жэ', score=1.0, methods_stack=((<UnknAnalyzer>, 'жэ'),))\n",
      "Parse(word='ещо', tag=OpencorporaTag('UNKN'), normal_form='ещо', score=1.0, methods_stack=((<UnknAnalyzer>, 'ещо'),))\n",
      "Parse(word='ок', tag=OpencorporaTag('UNKN'), normal_form='ок', score=1.0, methods_stack=((<UnknAnalyzer>, 'ок'),))\n",
      "Parse(word='гоа', tag=OpencorporaTag('UNKN'), normal_form='гоа', score=1.0, methods_stack=((<UnknAnalyzer>, 'гоа'),))\n",
      "Parse(word='дэ', tag=OpencorporaTag('UNKN'), normal_form='дэ', score=1.0, methods_stack=((<UnknAnalyzer>, 'дэ'),))\n",
      "Parse(word='ю', tag=OpencorporaTag('UNKN'), normal_form='ю', score=1.0, methods_stack=((<UnknAnalyzer>, 'ю'),))\n",
      "Parse(word='оф', tag=OpencorporaTag('UNKN'), normal_form='оф', score=1.0, methods_stack=((<UnknAnalyzer>, 'оф'),))\n",
      "Parse(word='ка', tag=OpencorporaTag('UNKN'), normal_form='ка', score=1.0, methods_stack=((<UnknAnalyzer>, 'ка'),))\n",
      "Parse(word='ево', tag=OpencorporaTag('UNKN'), normal_form='ево', score=1.0, methods_stack=((<UnknAnalyzer>, 'ево'),))\n",
      "Parse(word='небесица', tag=OpencorporaTag('UNKN'), normal_form='небесица', score=1.0, methods_stack=((<UnknAnalyzer>, 'ица'), (<KnownPrefixAnalyzer>, 'бес'), (<KnownPrefixAnalyzer>, 'не')))\n",
      "Parse(word='бесица', tag=OpencorporaTag('UNKN'), normal_form='бесица', score=1.0, methods_stack=((<UnknAnalyzer>, 'ица'), (<KnownPrefixAnalyzer>, 'бес')))\n",
      "Parse(word='ево', tag=OpencorporaTag('UNKN'), normal_form='ево', score=1.0, methods_stack=((<UnknAnalyzer>, 'ево'),))\n",
      "Parse(word='ын', tag=OpencorporaTag('UNKN'), normal_form='ын', score=1.0, methods_stack=((<UnknAnalyzer>, 'ын'),))\n",
      "Parse(word='ево', tag=OpencorporaTag('UNKN'), normal_form='ево', score=1.0, methods_stack=((<UnknAnalyzer>, 'ево'),))\n",
      "Parse(word='лиш', tag=OpencorporaTag('UNKN'), normal_form='лиш', score=1.0, methods_stack=((<UnknAnalyzer>, 'лиш'),))\n",
      "Parse(word='ево', tag=OpencorporaTag('UNKN'), normal_form='ево', score=1.0, methods_stack=((<UnknAnalyzer>, 'ево'),))\n",
      "Parse(word='ю', tag=OpencorporaTag('UNKN'), normal_form='ю', score=1.0, methods_stack=((<UnknAnalyzer>, 'ю'),))\n",
      "Parse(word='р', tag=OpencorporaTag('UNKN'), normal_form='р', score=1.0, methods_stack=((<UnknAnalyzer>, 'р'),))\n",
      "Parse(word='лэй', tag=OpencorporaTag('UNKN'), normal_form='лэй', score=1.0, methods_stack=((<UnknAnalyzer>, 'лэй'),))\n",
      "Parse(word='ево', tag=OpencorporaTag('UNKN'), normal_form='ево', score=1.0, methods_stack=((<UnknAnalyzer>, 'ево'),))\n",
      "Parse(word='ево', tag=OpencorporaTag('UNKN'), normal_form='ево', score=1.0, methods_stack=((<UnknAnalyzer>, 'ево'),))\n",
      "Parse(word='спа', tag=OpencorporaTag('UNKN'), normal_form='спа', score=1.0, methods_stack=((<UnknAnalyzer>, 'спа'),))\n",
      "Parse(word='бла', tag=OpencorporaTag('UNKN'), normal_form='бла', score=1.0, methods_stack=((<UnknAnalyzer>, 'бла'),))\n",
      "Parse(word='бла', tag=OpencorporaTag('UNKN'), normal_form='бла', score=1.0, methods_stack=((<UnknAnalyzer>, 'бла'),))\n",
      "Parse(word='бла', tag=OpencorporaTag('UNKN'), normal_form='бла', score=1.0, methods_stack=((<UnknAnalyzer>, 'бла'),))\n",
      "Parse(word='бла', tag=OpencorporaTag('UNKN'), normal_form='бла', score=1.0, methods_stack=((<UnknAnalyzer>, 'бла'),))\n",
      "Parse(word='бла', tag=OpencorporaTag('UNKN'), normal_form='бла', score=1.0, methods_stack=((<UnknAnalyzer>, 'бла'),))\n",
      "Parse(word='бла', tag=OpencorporaTag('UNKN'), normal_form='бла', score=1.0, methods_stack=((<UnknAnalyzer>, 'бла'),))\n",
      "Parse(word='бла', tag=OpencorporaTag('UNKN'), normal_form='бла', score=1.0, methods_stack=((<UnknAnalyzer>, 'бла'),))\n",
      "Parse(word='бла', tag=OpencorporaTag('UNKN'), normal_form='бла', score=1.0, methods_stack=((<UnknAnalyzer>, 'бла'),))\n",
      "Parse(word='ево', tag=OpencorporaTag('UNKN'), normal_form='ево', score=1.0, methods_stack=((<UnknAnalyzer>, 'ево'),))\n",
      "Parse(word='мощ', tag=OpencorporaTag('UNKN'), normal_form='мощ', score=1.0, methods_stack=((<UnknAnalyzer>, 'мощ'),))\n",
      "Parse(word='че', tag=OpencorporaTag('UNKN'), normal_form='че', score=1.0, methods_stack=((<UnknAnalyzer>, 'че'),))\n",
      "Parse(word='дожик', tag=OpencorporaTag('UNKN'), normal_form='дожик', score=1.0, methods_stack=((<UnknAnalyzer>, 'жик'), (<KnownPrefixAnalyzer>, 'до')))\n",
      "Parse(word='жок', tag=OpencorporaTag('UNKN'), normal_form='жок', score=1.0, methods_stack=((<UnknAnalyzer>, 'жок'),))\n",
      "Parse(word='ду', tag=OpencorporaTag('UNKN'), normal_form='ду', score=1.0, methods_stack=((<UnknAnalyzer>, 'ду'),))\n",
      "Parse(word='ю', tag=OpencorporaTag('UNKN'), normal_form='ю', score=1.0, methods_stack=((<UnknAnalyzer>, 'ю'),))\n",
      "Parse(word='ду', tag=OpencorporaTag('UNKN'), normal_form='ду', score=1.0, methods_stack=((<UnknAnalyzer>, 'ду'),))\n",
      "Parse(word='ещо', tag=OpencorporaTag('UNKN'), normal_form='ещо', score=1.0, methods_stack=((<UnknAnalyzer>, 'ещо'),))\n",
      "Parse(word='лю', tag=OpencorporaTag('UNKN'), normal_form='лю', score=1.0, methods_stack=((<UnknAnalyzer>, 'лю'),))\n"
     ]
    },
    {
     "name": "stdout",
     "output_type": "stream",
     "text": [
      "Parse(word='сос', tag=OpencorporaTag('UNKN'), normal_form='сос', score=1.0, methods_stack=((<UnknAnalyzer>, 'сос'),))\n",
      "Parse(word='реч', tag=OpencorporaTag('UNKN'), normal_form='реч', score=1.0, methods_stack=((<UnknAnalyzer>, 'реч'),))\n",
      "Parse(word='чом', tag=OpencorporaTag('UNKN'), normal_form='чом', score=1.0, methods_stack=((<UnknAnalyzer>, 'чом'),))\n",
      "Parse(word='тыц', tag=OpencorporaTag('UNKN'), normal_form='тыц', score=1.0, methods_stack=((<UnknAnalyzer>, 'тыц'),))\n",
      "Parse(word='тыц', tag=OpencorporaTag('UNKN'), normal_form='тыц', score=1.0, methods_stack=((<UnknAnalyzer>, 'тыц'),))\n",
      "Parse(word='тыц', tag=OpencorporaTag('UNKN'), normal_form='тыц', score=1.0, methods_stack=((<UnknAnalyzer>, 'тыц'),))\n",
      "Parse(word='тыц', tag=OpencorporaTag('UNKN'), normal_form='тыц', score=1.0, methods_stack=((<UnknAnalyzer>, 'тыц'),))\n",
      "Parse(word='бэ', tag=OpencorporaTag('UNKN'), normal_form='бэ', score=1.0, methods_stack=((<UnknAnalyzer>, 'бэ'),))\n",
      "Parse(word='общемто', tag=OpencorporaTag('UNKN'), normal_form='общемто', score=1.0, methods_stack=((<UnknAnalyzer>, 'мто'), (<KnownPrefixAnalyzer>, 'обще')))\n",
      "Parse(word='ё', tag=OpencorporaTag('UNKN'), normal_form='ё', score=1.0, methods_stack=((<UnknAnalyzer>, 'ё'),))\n",
      "Parse(word='ок', tag=OpencorporaTag('UNKN'), normal_form='ок', score=1.0, methods_stack=((<UnknAnalyzer>, 'ок'),))\n",
      "Parse(word='постить', tag=OpencorporaTag('UNKN'), normal_form='постить', score=1.0, methods_stack=((<UnknAnalyzer>, 'ить'), (<KnownPrefixAnalyzer>, 'пост')))\n",
      "Parse(word='ка', tag=OpencorporaTag('UNKN'), normal_form='ка', score=1.0, methods_stack=((<UnknAnalyzer>, 'ка'),))\n",
      "Parse(word='бэ', tag=OpencorporaTag('UNKN'), normal_form='бэ', score=1.0, methods_stack=((<UnknAnalyzer>, 'бэ'),))\n",
      "Parse(word='дэ', tag=OpencorporaTag('UNKN'), normal_form='дэ', score=1.0, methods_stack=((<UnknAnalyzer>, 'дэ'),))\n",
      "Parse(word='ка', tag=OpencorporaTag('UNKN'), normal_form='ка', score=1.0, methods_stack=((<UnknAnalyzer>, 'ка'),))\n",
      "Parse(word='ево', tag=OpencorporaTag('UNKN'), normal_form='ево', score=1.0, methods_stack=((<UnknAnalyzer>, 'ево'),))\n",
      "Parse(word='йож', tag=OpencorporaTag('UNKN'), normal_form='йож', score=1.0, methods_stack=((<UnknAnalyzer>, 'йож'),))\n",
      "Parse(word='ево', tag=OpencorporaTag('UNKN'), normal_form='ево', score=1.0, methods_stack=((<UnknAnalyzer>, 'ево'),))\n",
      "Parse(word='тум', tag=OpencorporaTag('UNKN'), normal_form='тум', score=1.0, methods_stack=((<UnknAnalyzer>, 'тум'),))\n",
      "Parse(word='тум', tag=OpencorporaTag('UNKN'), normal_form='тум', score=1.0, methods_stack=((<UnknAnalyzer>, 'тум'),))\n",
      "Parse(word='тум', tag=OpencorporaTag('UNKN'), normal_form='тум', score=1.0, methods_stack=((<UnknAnalyzer>, 'тум'),))\n",
      "Parse(word='тум', tag=OpencorporaTag('UNKN'), normal_form='тум', score=1.0, methods_stack=((<UnknAnalyzer>, 'тум'),))\n",
      "Parse(word='тум', tag=OpencorporaTag('UNKN'), normal_form='тум', score=1.0, methods_stack=((<UnknAnalyzer>, 'тум'),))\n",
      "Parse(word='тум', tag=OpencorporaTag('UNKN'), normal_form='тум', score=1.0, methods_stack=((<UnknAnalyzer>, 'тум'),))\n",
      "Parse(word='жеж', tag=OpencorporaTag('UNKN'), normal_form='жеж', score=1.0, methods_stack=((<UnknAnalyzer>, 'жеж'),))\n",
      "Parse(word='бэ', tag=OpencorporaTag('UNKN'), normal_form='бэ', score=1.0, methods_stack=((<UnknAnalyzer>, 'бэ'),))\n",
      "Parse(word='ка', tag=OpencorporaTag('UNKN'), normal_form='ка', score=1.0, methods_stack=((<UnknAnalyzer>, 'ка'),))\n",
      "Parse(word='ся', tag=OpencorporaTag('UNKN'), normal_form='ся', score=1.0, methods_stack=((<UnknAnalyzer>, 'ся'),))\n",
      "Parse(word='бох', tag=OpencorporaTag('UNKN'), normal_form='бох', score=1.0, methods_stack=((<UnknAnalyzer>, 'бох'),))\n",
      "Parse(word='вэ', tag=OpencorporaTag('UNKN'), normal_form='вэ', score=1.0, methods_stack=((<UnknAnalyzer>, 'вэ'),))\n",
      "Parse(word='нэ', tag=OpencorporaTag('UNKN'), normal_form='нэ', score=1.0, methods_stack=((<UnknAnalyzer>, 'нэ'),))\n",
      "Parse(word='нэ', tag=OpencorporaTag('UNKN'), normal_form='нэ', score=1.0, methods_stack=((<UnknAnalyzer>, 'нэ'),))\n",
      "Parse(word='ка', tag=OpencorporaTag('UNKN'), normal_form='ка', score=1.0, methods_stack=((<UnknAnalyzer>, 'ка'),))\n",
      "Parse(word='ка', tag=OpencorporaTag('UNKN'), normal_form='ка', score=1.0, methods_stack=((<UnknAnalyzer>, 'ка'),))\n",
      "Parse(word='дэ', tag=OpencorporaTag('UNKN'), normal_form='дэ', score=1.0, methods_stack=((<UnknAnalyzer>, 'дэ'),))\n",
      "Parse(word='чук', tag=OpencorporaTag('UNKN'), normal_form='чук', score=1.0, methods_stack=((<UnknAnalyzer>, 'чук'),))\n",
      "Parse(word='био', tag=OpencorporaTag('UNKN'), normal_form='био', score=1.0, methods_stack=((<UnknAnalyzer>, 'био'),))\n",
      "Parse(word='жэ', tag=OpencorporaTag('UNKN'), normal_form='жэ', score=1.0, methods_stack=((<UnknAnalyzer>, 'жэ'),))\n",
      "Parse(word='кэ', tag=OpencorporaTag('UNKN'), normal_form='кэ', score=1.0, methods_stack=((<UnknAnalyzer>, 'кэ'),))\n",
      "Parse(word='ещо', tag=OpencorporaTag('UNKN'), normal_form='ещо', score=1.0, methods_stack=((<UnknAnalyzer>, 'ещо'),))\n",
      "Parse(word='ка', tag=OpencorporaTag('UNKN'), normal_form='ка', score=1.0, methods_stack=((<UnknAnalyzer>, 'ка'),))\n",
      "Parse(word='ещо', tag=OpencorporaTag('UNKN'), normal_form='ещо', score=1.0, methods_stack=((<UnknAnalyzer>, 'ещо'),))\n",
      "Parse(word='йу', tag=OpencorporaTag('UNKN'), normal_form='йу', score=1.0, methods_stack=((<UnknAnalyzer>, 'йу'),))\n",
      "Parse(word='ево', tag=OpencorporaTag('UNKN'), normal_form='ево', score=1.0, methods_stack=((<UnknAnalyzer>, 'ево'),))\n",
      "Parse(word='ци', tag=OpencorporaTag('UNKN'), normal_form='ци', score=1.0, methods_stack=((<UnknAnalyzer>, 'ци'),))\n",
      "Parse(word='пэ', tag=OpencorporaTag('UNKN'), normal_form='пэ', score=1.0, methods_stack=((<UnknAnalyzer>, 'пэ'),))\n",
      "Parse(word='тэ', tag=OpencorporaTag('UNKN'), normal_form='тэ', score=1.0, methods_stack=((<UnknAnalyzer>, 'тэ'),))\n",
      "Parse(word='эл', tag=OpencorporaTag('UNKN'), normal_form='эл', score=1.0, methods_stack=((<UnknAnalyzer>, 'эл'),))\n",
      "Parse(word='лиш', tag=OpencorporaTag('UNKN'), normal_form='лиш', score=1.0, methods_stack=((<UnknAnalyzer>, 'лиш'),))\n",
      "Parse(word='бэ', tag=OpencorporaTag('UNKN'), normal_form='бэ', score=1.0, methods_stack=((<UnknAnalyzer>, 'бэ'),))\n",
      "Parse(word='ла', tag=OpencorporaTag('UNKN'), normal_form='ла', score=1.0, methods_stack=((<UnknAnalyzer>, 'ла'),))\n",
      "Parse(word='ка', tag=OpencorporaTag('UNKN'), normal_form='ка', score=1.0, methods_stack=((<UnknAnalyzer>, 'ка'),))\n",
      "Parse(word='ево', tag=OpencorporaTag('UNKN'), normal_form='ево', score=1.0, methods_stack=((<UnknAnalyzer>, 'ево'),))\n",
      "Parse(word='доч', tag=OpencorporaTag('UNKN'), normal_form='доч', score=1.0, methods_stack=((<UnknAnalyzer>, 'доч'),))\n",
      "Parse(word='ево', tag=OpencorporaTag('UNKN'), normal_form='ево', score=1.0, methods_stack=((<UnknAnalyzer>, 'ево'),))\n",
      "Parse(word='пэо', tag=OpencorporaTag('UNKN'), normal_form='пэо', score=1.0, methods_stack=((<UnknAnalyzer>, 'пэо'),))\n",
      "Parse(word='жэ', tag=OpencorporaTag('UNKN'), normal_form='жэ', score=1.0, methods_stack=((<UnknAnalyzer>, 'жэ'),))\n",
      "Parse(word='олу', tag=OpencorporaTag('UNKN'), normal_form='олу', score=1.0, methods_stack=((<UnknAnalyzer>, 'олу'),))\n",
      "Parse(word='ево', tag=OpencorporaTag('UNKN'), normal_form='ево', score=1.0, methods_stack=((<UnknAnalyzer>, 'ево'),))\n",
      "Parse(word='яб', tag=OpencorporaTag('UNKN'), normal_form='яб', score=1.0, methods_stack=((<UnknAnalyzer>, 'яб'),))\n",
      "Parse(word='нью', tag=OpencorporaTag('UNKN'), normal_form='нью', score=1.0, methods_stack=((<UnknAnalyzer>, 'нью'),))\n",
      "Parse(word='че', tag=OpencorporaTag('UNKN'), normal_form='че', score=1.0, methods_stack=((<UnknAnalyzer>, 'че'),))\n",
      "Parse(word='юго', tag=OpencorporaTag('UNKN'), normal_form='юго', score=1.0, methods_stack=((<UnknAnalyzer>, 'юго'),))\n",
      "Parse(word='ш', tag=OpencorporaTag('UNKN'), normal_form='ш', score=1.0, methods_stack=((<UnknAnalyzer>, 'ш'),))\n",
      "Parse(word='ци', tag=OpencorporaTag('UNKN'), normal_form='ци', score=1.0, methods_stack=((<UnknAnalyzer>, 'ци'),))\n",
      "Parse(word='заебу', tag=OpencorporaTag('UNKN'), normal_form='заебу', score=1.0, methods_stack=((<UnknAnalyzer>, 'ебу'), (<KnownPrefixAnalyzer>, 'за')))\n",
      "Parse(word='бэ', tag=OpencorporaTag('UNKN'), normal_form='бэ', score=1.0, methods_stack=((<UnknAnalyzer>, 'бэ'),))\n",
      "Parse(word='кей', tag=OpencorporaTag('UNKN'), normal_form='кей', score=1.0, methods_stack=((<UnknAnalyzer>, 'кей'),))\n",
      "Parse(word='фер', tag=OpencorporaTag('UNKN'), normal_form='фер', score=1.0, methods_stack=((<UnknAnalyzer>, 'фер'),))\n",
      "Parse(word='тэ', tag=OpencorporaTag('UNKN'), normal_form='тэ', score=1.0, methods_stack=((<UnknAnalyzer>, 'тэ'),))\n"
     ]
    },
    {
     "name": "stdout",
     "output_type": "stream",
     "text": [
      "Parse(word='упс', tag=OpencorporaTag('UNKN'), normal_form='упс', score=1.0, methods_stack=((<UnknAnalyzer>, 'упс'),))\n",
      "Parse(word='ево', tag=OpencorporaTag('UNKN'), normal_form='ево', score=1.0, methods_stack=((<UnknAnalyzer>, 'ево'),))\n",
      "Parse(word='дожём', tag=OpencorporaTag('UNKN'), normal_form='дожём', score=1.0, methods_stack=((<UnknAnalyzer>, 'жём'), (<KnownPrefixAnalyzer>, 'до')))\n",
      "Parse(word='жон', tag=OpencorporaTag('UNKN'), normal_form='жон', score=1.0, methods_stack=((<UnknAnalyzer>, 'жон'),))\n",
      "Parse(word='энд', tag=OpencorporaTag('UNKN'), normal_form='энд', score=1.0, methods_stack=((<UnknAnalyzer>, 'энд'),))\n",
      "Parse(word='юэ', tag=OpencorporaTag('UNKN'), normal_form='юэ', score=1.0, methods_stack=((<UnknAnalyzer>, 'юэ'),))\n",
      "Parse(word='электронке', tag=OpencorporaTag('UNKN'), normal_form='электронке', score=1.0, methods_stack=((<UnknAnalyzer>, 'нке'), (<KnownPrefixAnalyzer>, 'электро')))\n",
      "Parse(word='че', tag=OpencorporaTag('UNKN'), normal_form='че', score=1.0, methods_stack=((<UnknAnalyzer>, 'че'),))\n",
      "Parse(word='мэм', tag=OpencorporaTag('UNKN'), normal_form='мэм', score=1.0, methods_stack=((<UnknAnalyzer>, 'мэм'),))\n",
      "Parse(word='чо', tag=OpencorporaTag('UNKN'), normal_form='чо', score=1.0, methods_stack=((<UnknAnalyzer>, 'чо'),))\n",
      "Parse(word='чо', tag=OpencorporaTag('UNKN'), normal_form='чо', score=1.0, methods_stack=((<UnknAnalyzer>, 'чо'),))\n",
      "Parse(word='самочка', tag=OpencorporaTag('UNKN'), normal_form='самочка', score=1.0, methods_stack=((<UnknAnalyzer>, 'чка'), (<KnownPrefixAnalyzer>, 'само')))\n",
      "Parse(word='чо', tag=OpencorporaTag('UNKN'), normal_form='чо', score=1.0, methods_stack=((<UnknAnalyzer>, 'чо'),))\n",
      "Parse(word='нал', tag=OpencorporaTag('UNKN'), normal_form='нал', score=1.0, methods_stack=((<UnknAnalyzer>, 'нал'),))\n",
      "Parse(word='ка', tag=OpencorporaTag('UNKN'), normal_form='ка', score=1.0, methods_stack=((<UnknAnalyzer>, 'ка'),))\n",
      "Parse(word='ок', tag=OpencorporaTag('UNKN'), normal_form='ок', score=1.0, methods_stack=((<UnknAnalyzer>, 'ок'),))\n",
      "Parse(word='бад', tag=OpencorporaTag('UNKN'), normal_form='бад', score=1.0, methods_stack=((<UnknAnalyzer>, 'бад'),))\n",
      "Parse(word='олл', tag=OpencorporaTag('UNKN'), normal_form='олл', score=1.0, methods_stack=((<UnknAnalyzer>, 'олл'),))\n",
      "Parse(word='жо', tag=OpencorporaTag('UNKN'), normal_form='жо', score=1.0, methods_stack=((<UnknAnalyzer>, 'жо'),))\n",
      "Parse(word='ху', tag=OpencorporaTag('UNKN'), normal_form='ху', score=1.0, methods_stack=((<UnknAnalyzer>, 'ху'),))\n",
      "Parse(word='ху', tag=OpencorporaTag('UNKN'), normal_form='ху', score=1.0, methods_stack=((<UnknAnalyzer>, 'ху'),))\n",
      "Parse(word='жо', tag=OpencorporaTag('UNKN'), normal_form='жо', score=1.0, methods_stack=((<UnknAnalyzer>, 'жо'),))\n",
      "Parse(word='зе', tag=OpencorporaTag('UNKN'), normal_form='зе', score=1.0, methods_stack=((<UnknAnalyzer>, 'зе'),))\n",
      "Parse(word='рио', tag=OpencorporaTag('UNKN'), normal_form='рио', score=1.0, methods_stack=((<UnknAnalyzer>, 'рио'),))\n",
      "Parse(word='кв', tag=OpencorporaTag('UNKN'), normal_form='кв', score=1.0, methods_stack=((<UnknAnalyzer>, 'кв'),))\n",
      "Parse(word='ру', tag=OpencorporaTag('UNKN'), normal_form='ру', score=1.0, methods_stack=((<UnknAnalyzer>, 'ру'),))\n",
      "Parse(word='сру', tag=OpencorporaTag('UNKN'), normal_form='сру', score=1.0, methods_stack=((<UnknAnalyzer>, 'сру'),))\n",
      "Parse(word='чё', tag=OpencorporaTag('UNKN'), normal_form='чё', score=1.0, methods_stack=((<UnknAnalyzer>, 'чё'),))\n",
      "Parse(word='гуф', tag=OpencorporaTag('UNKN'), normal_form='гуф', score=1.0, methods_stack=((<UnknAnalyzer>, 'гуф'),))\n",
      "Parse(word='жы', tag=OpencorporaTag('UNKN'), normal_form='жы', score=1.0, methods_stack=((<UnknAnalyzer>, 'жы'),))\n",
      "Parse(word='шы', tag=OpencorporaTag('UNKN'), normal_form='шы', score=1.0, methods_stack=((<UnknAnalyzer>, 'шы'),))\n",
      "Parse(word='бэ', tag=OpencorporaTag('UNKN'), normal_form='бэ', score=1.0, methods_stack=((<UnknAnalyzer>, 'бэ'),))\n",
      "Parse(word='вэ', tag=OpencorporaTag('UNKN'), normal_form='вэ', score=1.0, methods_stack=((<UnknAnalyzer>, 'вэ'),))\n",
      "Parse(word='ол', tag=OpencorporaTag('UNKN'), normal_form='ол', score=1.0, methods_stack=((<UnknAnalyzer>, 'ол'),))\n",
      "Parse(word='хав', tag=OpencorporaTag('UNKN'), normal_form='хав', score=1.0, methods_stack=((<UnknAnalyzer>, 'хав'),))\n",
      "Parse(word='ю', tag=OpencorporaTag('UNKN'), normal_form='ю', score=1.0, methods_stack=((<UnknAnalyzer>, 'ю'),))\n",
      "Parse(word='ё', tag=OpencorporaTag('UNKN'), normal_form='ё', score=1.0, methods_stack=((<UnknAnalyzer>, 'ё'),))\n",
      "Parse(word='ево', tag=OpencorporaTag('UNKN'), normal_form='ево', score=1.0, methods_stack=((<UnknAnalyzer>, 'ево'),))\n",
      "Parse(word='мэй', tag=OpencorporaTag('UNKN'), normal_form='мэй', score=1.0, methods_stack=((<UnknAnalyzer>, 'мэй'),))\n"
     ]
    },
    {
     "name": "stderr",
     "output_type": "stream",
     "text": [
      "2017-10-15 12:20:21,127 : INFO : loading projection weights from c:/data/ruscorpora_1_300_10.bin.gz\n"
     ]
    },
    {
     "name": "stdout",
     "output_type": "stream",
     "text": [
      "Parse(word='рёк', tag=OpencorporaTag('UNKN'), normal_form='рёк', score=1.0, methods_stack=((<UnknAnalyzer>, 'рёк'),))\n",
      "Parse(word='ево', tag=OpencorporaTag('UNKN'), normal_form='ево', score=1.0, methods_stack=((<UnknAnalyzer>, 'ево'),))\n",
      "loading w2v_model...\n"
     ]
    },
    {
     "name": "stderr",
     "output_type": "stream",
     "text": [
      "2017-10-15 12:20:28,304 : INFO : loaded (161301, 300) matrix from c:/data/ruscorpora_1_300_10.bin.gz\n"
     ]
    },
    {
     "name": "stdout",
     "output_type": "stream",
     "text": [
      "word2vec model 'c:/data/ruscorpora_1_300_10.bin.gz' loaded\n",
      "model is compiled\n"
     ]
    }
   ],
   "source": [
    "from poems_model import PoemsModel\n",
    "\n",
    "pm = PoemsModel()\n",
    "\n",
    "poems_file = './data/poems.txt'\n",
    "# poems_file = '../data/poems_33000.txt'\n",
    "w2v_file = 'c:/data/ruscorpora_1_300_10.bin.gz'\n",
    "\n",
    "pm.compile(poems_file, w2v_file)"
   ]
  },
  {
   "cell_type": "code",
   "execution_count": 3,
   "metadata": {
    "collapsed": true,
    "scrolled": true
   },
   "outputs": [],
   "source": [
    "pm.write('./data/poems_model.pickle')\n",
    "# pm.write('./data/poems_model_big.pickle')"
   ]
  },
  {
   "cell_type": "code",
   "execution_count": 4,
   "metadata": {
    "scrolled": true
   },
   "outputs": [
    {
     "name": "stdout",
     "output_type": "stream",
     "text": [
      "reading pickle poems model...\n",
      "vectorizing model...\n",
      "model is loaded\n"
     ]
    },
    {
     "data": {
      "text/plain": [
       "['дрожал у адвоката голос\\nрыдали судьи плакал зал\\nи подсудимый сам поверил\\nне крал\\n',\n",
       " 'нет в шоколаде шоколада\\nдавно нет мяса в колбасе\\nстановится чуть чуть тревожно\\nа вдруг и в людях нет людей\\n',\n",
       " 'лишает сна срывает крышу\\nи переводит речь на мат\\nнезапихуемость идеи\\nв формат\\n',\n",
       " 'в двенадцать лет ты на уроке\\nв стихе обязан понимать\\nвсе что в депрессии с похмелья\\nпоэту в голову пришло\\n',\n",
       " 'я вежлив и предельно скромен\\nумеренно духовен мил\\nнеглуп имею чувство такта\\nблагослови меня господь\\n',\n",
       " 'я пью ты пьёшь мы пьём вы пьёте\\nспрягал глагол уныло класс\\nа получился о россии\\nрассказ\\n',\n",
       " 'о подозрительных предметах\\nя машинисту сообщил\\nдва бильбоке одна клепсидра\\nжабо спирограф и бювар\\n',\n",
       " 'приём диспетчер что нам делать\\nу нас заклинило шасси\\nспокойно повторяйте иже\\nеси\\n',\n",
       " 'без ложной скромности замечу\\nя гениальный человек\\nа то что ничего не создал\\nтак я был занят и болел\\n',\n",
       " 'я ненавижу вас так долго\\nчто в принципе уже забыл\\nи почему вас ненавижу\\nи кто вы собственно такой\\n']"
      ]
     },
     "execution_count": 4,
     "metadata": {},
     "output_type": "execute_result"
    }
   ],
   "source": [
    "pm.poems = []\n",
    "pm.read('./data/poems_model.pickle')\n",
    "#pm.read('../data/poems_model_big.pickle')\n",
    "pm.poems[:10]"
   ]
  },
  {
   "cell_type": "markdown",
   "metadata": {},
   "source": [
    "## Load"
   ]
  },
  {
   "cell_type": "code",
   "execution_count": 1,
   "metadata": {
    "scrolled": true
   },
   "outputs": [
    {
     "name": "stderr",
     "output_type": "stream",
     "text": [
      "C:\\Anaconda3\\lib\\site-packages\\gensim\\utils.py:860: UserWarning: detected Windows; aliasing chunkize to chunkize_serial\n",
      "  warnings.warn(\"detected Windows; aliasing chunkize to chunkize_serial\")\n",
      "Slow version of gensim.models.doc2vec is being used\n",
      "2017-10-22 23:21:45,439 : INFO : loading projection weights from c:/data/ruscorpora_1_300_10.bin.gz\n"
     ]
    },
    {
     "name": "stdout",
     "output_type": "stream",
     "text": [
      "loading w2v_model...\n"
     ]
    },
    {
     "name": "stderr",
     "output_type": "stream",
     "text": [
      "2017-10-22 23:21:52,720 : INFO : loaded (161301, 300) matrix from c:/data/ruscorpora_1_300_10.bin.gz\n"
     ]
    },
    {
     "name": "stdout",
     "output_type": "stream",
     "text": [
      "word2vec model 'c:/data/ruscorpora_1_300_10.bin.gz' loaded\n",
      "reading pickle poems model...\n",
      "vectorizing model...\n",
      "model is loaded\n"
     ]
    }
   ],
   "source": [
    "from poems_model import PoemsModel\n",
    "\n",
    "poems_data_file = './data/poems_model_big.pickle'\n",
    "w2v_file = 'c:/data/ruscorpora_1_300_10.bin.gz'\n",
    "\n",
    "pm = PoemsModel(poems_data_file, w2v_file)\n"
   ]
  },
  {
   "cell_type": "code",
   "execution_count": 7,
   "metadata": {
    "scrolled": true
   },
   "outputs": [
    {
     "data": {
      "text/plain": [
       "['ребята мне совсем хреново\\nдрузьям аркадий говорит\\nдрузья качают головами\\nи тычут палочкой в нево\\n',\n",
       " 'придя домой семён наткнулся\\nна лужу серной кислоты\\nскорее вытирать скорее\\nпока к соседям не прожгло\\n',\n",
       " 'двенадцать сигарет без фильтра\\nи ты уже не человек\\nа помесь трупа с вертолетом\\nвлетающим в густой туман\\n',\n",
       " 'мы рождены пустым сосудом\\nи наполняемся за жизнь\\nа иисус рожденный полным\\nвсе жизнь тихонько протекал\\n',\n",
       " 'давай теперь ты будешь кофе\\nа я как сахарный песок\\nживым мерцающим потоком\\nв тебе всецело растворюсь\\n',\n",
       " 'когда я стал половозрелый\\nя встретил девушку одну\\nи предъявил ей между прочим\\nполовоззрения свои\\n',\n",
       " 'правительство нелегитимно\\nкричит народ на площадях\\nно только путин знает правду\\nнелегитимен сам народ\\n',\n",
       " 'в известняке петрова сердца\\nзашевелился трилобит\\nпо телу гул прошел волною\\nкоснулся пяток и затих\\n',\n",
       " 'я не люблю мужчин с цветами\\nони мне причиняют боль\\nкогда счастливою походкой\\nидут куда то не ко мне\\n',\n",
       " 'ещё пятнадцать километров\\nи ты увидишь океан\\nно чтоб эффект был максимальным\\nглаза пока не открывай\\n']"
      ]
     },
     "execution_count": 7,
     "metadata": {},
     "output_type": "execute_result"
    }
   ],
   "source": [
    "pm.poems[:10]"
   ]
  },
  {
   "cell_type": "code",
   "execution_count": 46,
   "metadata": {
    "scrolled": true
   },
   "outputs": [
    {
     "name": "stdout",
     "output_type": "stream",
     "text": [
      "Pretty printing has been turned ON\n"
     ]
    }
   ],
   "source": [
    "%pprint\n",
    "# [(poem.replace('\\n', ' '), sim) for poem, sim in poems]"
   ]
  },
  {
   "cell_type": "code",
   "execution_count": 8,
   "metadata": {
    "scrolled": true
   },
   "outputs": [
    {
     "name": "stdout",
     "output_type": "stream",
     "text": [
      "я чёрный маг владею миром\n",
      "брюнет высокий тридцать лет\n",
      "ищу с фантазией подругу\n",
      "чтоб вместе в вечности царить\n",
      "\t0.0071050597626346355\n",
      "там кант вольтер и фридрих ницше\n",
      "там жан поль сартр и зигмунд фрейд\n",
      "а мы органику листаем\n",
      "и в философии дубы\n",
      "\t0.006912474522297485\n",
      "я ненавижу христианство\n",
      "буддизм ислам иудаизм\n",
      "язычество и джорджа буша\n",
      "люблю пельмени с судаком\n",
      "\t0.0067071939634349605\n",
      "святейший патриарх московский\n",
      "владыка царь всея руси\n",
      "король всех княжеств князь всех вотчин\n",
      "мэр губернатор президент\n",
      "\t0.00656869323314987\n",
      "поэт поэтому поэтом \n",
      "был назван что писал стихи \n",
      "слова не однокоренные \n",
      "но смысл они передают\n",
      "\t0.006470009006753318\n",
      "давай откроем книгу жизни\n",
      "в ней интересного полно\n",
      "год выпуска тираж издатель\n",
      "редактор автор рецензент\n",
      "\t0.006451201311359908\n",
      "не обращали ль вы вниманье \n",
      "что если человек масон \n",
      "то он ученый очень крупный \n",
      "поэт политик журналист\n",
      "\t0.006412568831615467\n",
      "геннадий произнёс заклятье\n",
      "слюною плюнул колдовской\n",
      "и волшебство любви исчезло\n",
      "сменившись магией войны\n",
      "\t0.006402103563382461\n",
      "наука жить почти бессильна\n",
      "перед искусством умирать\n",
      "сказал печально математик\n",
      "и разложился в ряд фурье\n",
      "\t0.006375879835122076\n",
      "так по японски живописна\n",
      "на огороде бузина\n",
      "что дядька в киеве должно быть\n",
      "поэт художник и буддист\n",
      "\t0.006300534762655926\n"
     ]
    }
   ],
   "source": [
    "for poem in pm.similar_poems('творчество киевского мага и мистика', topn=10): \n",
    "    print(f'{poem[0]}\\t{poem[1]}')"
   ]
  },
  {
   "cell_type": "code",
   "execution_count": 20,
   "metadata": {
    "scrolled": true
   },
   "outputs": [
    {
     "name": "stdout",
     "output_type": "stream",
     "text": [
      "танцую вальс фокстрот и танго\n",
      "танцую румбу и чарльзстон\n",
      "но не могу как не хотела б\n",
      "на вашей дудке я сплясать\n",
      "\t0.004834194600581389\n",
      "как только смолкли звуки вальса\n",
      "шаинский голову поднял\n",
      "ещё один аккорд вонзился\n",
      "в убитый гением партер\n",
      "\t0.003995075849057578\n",
      "сальери умер моцарт тоже \n",
      "бетховен умер и шопен \n",
      "шаинский знай себе смеется \n",
      "и песни звонкие поет\n",
      "\t0.00396372613914566\n",
      "руководя оркестром листьев\n",
      "играет ветер грустный вальс\n",
      "негромко дождь своим стаккато\n",
      "аккомпанирует ему\n",
      "\t0.003877779877052839\n",
      "она хотела только ноги\n",
      "чтоб танцевать гавот и вальс\n",
      "а тут молчанье принц принцесса\n",
      "и неожиданная смерть\n",
      "\t0.00378763551365222\n",
      "нет ты красивая не думай\n",
      "что я ушел из за ушей\n",
      "что волочились по паркету\n",
      "и вальс мешали танцевать\n",
      "\t0.003785270279369244\n",
      "поют в дуэте две дуеньи\n",
      "в квартете тенор квартирант\n",
      "в оркестре же играют орки\n",
      "ну а сольери он солист\n",
      "\t0.003776977515259344\n",
      "а вот шаинский за роялем \n",
      "спокоен мудрый пианист \n",
      "одет он в майку и штанишки \n",
      "и дети рядом пляшут вальс\n",
      "\t0.0037247266395355237\n",
      "лицом играют тромбонисты \n",
      "лицом флейтисты трубачи \n",
      "саксофонисты кларнетисты \n",
      "гобой валторна и фагот \n",
      "\t0.003723680426248944\n",
      "на скользком ледяном паркете \n",
      "метель ночной танцует вальс\n",
      "с ней старый бомж не в такт кружится\n",
      "как с девочкой на выпускном\n",
      "\t0.0036966228549309803\n",
      "Wall time: 85 ms\n"
     ]
    }
   ],
   "source": [
    "%%time\n",
    "for poem in pm.similar_poems('вальс', topn=10): \n",
    "    print(f'{poem[0]}\\t{poem[1]}')"
   ]
  },
  {
   "cell_type": "markdown",
   "metadata": {},
   "source": [
    "## Save to JSON"
   ]
  },
  {
   "cell_type": "code",
   "execution_count": 12,
   "metadata": {
    "collapsed": true
   },
   "outputs": [],
   "source": [
    "import json\n",
    "\n",
    "data = {\n",
    "    'poems': pm.poems,\n",
    "    'bags' : pm.bags\n",
    "}\n",
    "\n",
    "file = open(\"./data/poems_model.json\", mode='w', encoding='utf-8')\n",
    "json.dump(data, file, separators=(',', ':'), ensure_ascii=False)\n"
   ]
  },
  {
   "cell_type": "code",
   "execution_count": 11,
   "metadata": {},
   "outputs": [
    {
     "name": "stdout",
     "output_type": "stream",
     "text": [
      "['ребята_NOUN', 'совсем_ADV', 'хреновый_ADJ', 'друг_NOUN', 'говорить_VERB', 'качать_VERB', 'голова_NOUN', 'тыкать_VERB', 'палочка_NOUN', 'невый_ADJ']\n"
     ]
    }
   ],
   "source": [
    "print(data['bags'][0])"
   ]
  },
  {
   "cell_type": "markdown",
   "metadata": {},
   "source": [
    "## Tests"
   ]
  },
  {
   "cell_type": "code",
   "execution_count": 9,
   "metadata": {},
   "outputs": [
    {
     "name": "stdout",
     "output_type": "stream",
     "text": [
      "The slowest run took 17.21 times longer than the fastest. This could mean that an intermediate result is being cached.\n",
      "1000000 loops, best of 3: 238 ns per loop\n"
     ]
    }
   ],
   "source": [
    "%%timeit\n",
    "enumerate(pm.matrices)"
   ]
  },
  {
   "cell_type": "code",
   "execution_count": 7,
   "metadata": {},
   "outputs": [
    {
     "data": {
      "text/plain": [
       "array([-0.01921569, -0.04429   ,  0.01141533,  0.16613917, -0.04715544,\n",
       "       -0.0196007 , -0.00832584,  0.01355385, -0.06839556,  0.05128639,\n",
       "        0.01142514,  0.03859952, -0.0283889 ,  0.01141455, -0.01108611,\n",
       "       -0.0080464 ,  0.02771681,  0.00661864, -0.03316632, -0.01406994,\n",
       "        0.07541456,  0.06580013, -0.0894529 ,  0.0481694 , -0.02904858,\n",
       "       -0.0865512 ,  0.0162587 ,  0.03824669,  0.02711524,  0.01763196,\n",
       "        0.03396021, -0.05100726,  0.06634038, -0.07446305, -0.05505511,\n",
       "        0.03173188,  0.07907319, -0.02354553,  0.02553871,  0.01147137,\n",
       "       -0.00437884,  0.01914675,  0.05425941, -0.0924577 ,  0.06919847,\n",
       "       -0.12068905,  0.02208269, -0.05762626,  0.02164199, -0.14661501,\n",
       "        0.05885078,  0.01861138,  0.02929406, -0.00935467,  0.10029004,\n",
       "       -0.04169412, -0.13338292,  0.06460688,  0.02143366, -0.00210405,\n",
       "       -0.03570003,  0.03872696, -0.07149996, -0.01084066,  0.03955122,\n",
       "        0.00728331, -0.07691984,  0.03471304, -0.05918778,  0.08778633,\n",
       "       -0.05561   ,  0.01122402, -0.05264386, -0.08203428, -0.01153398,\n",
       "       -0.00970704,  0.06816531, -0.03507086,  0.03037979,  0.00235335,\n",
       "       -0.00075218, -0.04744379, -0.07197118, -0.08460876,  0.05185132,\n",
       "        0.02030113,  0.0095583 ,  0.02496207, -0.06800154, -0.05943827,\n",
       "        0.05515696,  0.01553756, -0.07099383, -0.04640317, -0.02770902,\n",
       "       -0.052268  ,  0.065121  , -0.02054509,  0.02208901, -0.03917314,\n",
       "       -0.03136109, -0.04158465,  0.07369182, -0.00526492, -0.03629011,\n",
       "       -0.02600345,  0.02617816, -0.03021868, -0.05389422,  0.01527739,\n",
       "        0.06479177,  0.07755043, -0.0956335 , -0.03620917, -0.02876908,\n",
       "       -0.00917768, -0.02025053, -0.02554621, -0.05156158,  0.03655094,\n",
       "        0.00024792, -0.03362583, -0.06828306, -0.03930609,  0.01912872,\n",
       "       -0.07260318, -0.0192416 ,  0.00251327,  0.00037882,  0.12115946,\n",
       "       -0.07535934, -0.02330257, -0.02925527,  0.06410193, -0.08126654,\n",
       "       -0.07902171, -0.10563615, -0.02703098, -0.01471485, -0.00369949,\n",
       "        0.0030815 ,  0.06392991,  0.02935292,  0.01503128,  0.02061972,\n",
       "        0.08189829, -0.01264387,  0.08719356,  0.05788628,  0.0754988 ,\n",
       "       -0.09301001,  0.00425456, -0.10744337,  0.0598557 , -0.06584867,\n",
       "       -0.00463423,  0.06828899,  0.02083735, -0.06108733,  0.00722694,\n",
       "       -0.03097592, -0.02095605, -0.11886056,  0.02283488,  0.02478727,\n",
       "       -0.04502595,  0.05042896, -0.00619652, -0.06716818, -0.02684867,\n",
       "        0.05318573,  0.06089632, -0.05144311,  0.08878655,  0.11715376,\n",
       "       -0.06177408,  0.14868385,  0.02415751,  0.03911404,  0.01134326,\n",
       "       -0.05170113, -0.00845263,  0.04867471, -0.00221173,  0.00670221,\n",
       "       -0.0266826 ,  0.04416772,  0.06836447, -0.03694462, -0.02574539,\n",
       "        0.05463656,  0.08165781, -0.08848072, -0.02478341, -0.03825924,\n",
       "       -0.00060803,  0.00164978,  0.00614708, -0.02997634, -0.05286773,\n",
       "       -0.00783176, -0.0563733 ,  0.02083508, -0.06096144, -0.02897385,\n",
       "        0.02204696, -0.11781022,  0.06024083, -0.03143384,  0.10264608,\n",
       "        0.03145259,  0.04299705,  0.01731938,  0.08207794,  0.08142862,\n",
       "        0.04309574, -0.08636153,  0.06376051,  0.03283462,  0.05468353,\n",
       "       -0.05456871, -0.01339954,  0.054206  ,  0.04813753,  0.04284146,\n",
       "       -0.05473935, -0.00800119,  0.06311066, -0.01692302, -0.00617257,\n",
       "        0.03058507,  0.03935552, -0.06915479,  0.11872886, -0.10756947,\n",
       "       -0.03199025, -0.06199768,  0.00382621,  0.0086869 , -0.04259384,\n",
       "        0.11606667,  0.07809761,  0.04642632,  0.11982694, -0.03755972,\n",
       "        0.0287758 ,  0.14788727, -0.04658083, -0.06410469,  0.00320467,\n",
       "        0.00419957, -0.09189626,  0.03872846,  0.08474044,  0.07897789,\n",
       "       -0.09403715,  0.19828831,  0.0347571 ,  0.05807866,  0.07451812,\n",
       "        0.00164735, -0.05245117, -0.05266247, -0.05094896,  0.05352444,\n",
       "        0.08964896,  0.05981074,  0.02359711,  0.01176447, -0.02429163,\n",
       "        0.04348912,  0.11136346,  0.02322268,  0.05061907, -0.00193335,\n",
       "       -0.04362199, -0.04462869,  0.02047692,  0.02528393,  0.01432643,\n",
       "       -0.0665201 ,  0.04343385,  0.09201121,  0.01733918, -0.02521848,\n",
       "        0.01778957, -0.15422317, -0.04430589, -0.03910978,  0.11805995,\n",
       "        0.04992231, -0.0487807 , -0.01603309,  0.07789036,  0.00028761,\n",
       "       -0.0450898 , -0.02367802, -0.06816524, -0.1113053 , -0.01868097], dtype=float32)"
      ]
     },
     "execution_count": 7,
     "metadata": {},
     "output_type": "execute_result"
    }
   ],
   "source": [
    "pm.w2v.syn0[0]"
   ]
  },
  {
   "cell_type": "code",
   "execution_count": 20,
   "metadata": {},
   "outputs": [
    {
     "name": "stdout",
     "output_type": "stream",
     "text": [
      "0.5\n",
      "[-0.00960784 -0.022145    0.00570766  0.08306959 -0.02357772 -0.00980035\n",
      " -0.00416292  0.00677693 -0.03419778  0.0256432   0.00571257  0.01929976\n",
      " -0.01419445  0.00570728 -0.00554306 -0.0040232   0.0138584   0.00330932\n",
      " -0.01658316 -0.00703497  0.03770728  0.03290007 -0.04472645  0.0240847\n",
      " -0.01452429 -0.0432756   0.00812935  0.01912335  0.01355762  0.00881598\n",
      "  0.01698011 -0.02550363  0.03317019 -0.03723153 -0.02752755  0.01586594\n",
      "  0.0395366  -0.01177276  0.01276935  0.00573569 -0.00218942  0.00957338\n",
      "  0.0271297  -0.04622885  0.03459923 -0.06034452  0.01104134 -0.02881313\n",
      "  0.010821   -0.07330751  0.02942539  0.00930569  0.01464703 -0.00467734\n",
      "  0.05014502 -0.02084706 -0.06669146  0.03230344  0.01071683 -0.00105202\n",
      " -0.01785002  0.01936348 -0.03574998 -0.00542033  0.01977561  0.00364165\n",
      " -0.03845992  0.01735652 -0.02959389  0.04389317 -0.027805    0.00561201\n",
      " -0.02632193 -0.04101714 -0.00576699 -0.00485352  0.03408265 -0.01753543\n",
      "  0.0151899   0.00117667 -0.00037609 -0.0237219  -0.03598559 -0.04230438\n",
      "  0.02592566  0.01015057  0.00477915  0.01248103 -0.03400077 -0.02971913\n",
      "  0.02757848  0.00776878 -0.03549691 -0.02320159 -0.01385451 -0.026134\n",
      "  0.0325605  -0.01027254  0.01104451 -0.01958657 -0.01568054 -0.02079232\n",
      "  0.03684591 -0.00263246 -0.01814505 -0.01300172  0.01308908 -0.01510934\n",
      " -0.02694711  0.00763869  0.03239588  0.03877522 -0.04781675 -0.01810458\n",
      " -0.01438454 -0.00458884 -0.01012526 -0.0127731  -0.02578079  0.01827547\n",
      "  0.00012396 -0.01681291 -0.03414153 -0.01965305  0.00956436 -0.03630159\n",
      " -0.0096208   0.00125663  0.00018941  0.06057973 -0.03767967 -0.01165128\n",
      " -0.01462763  0.03205097 -0.04063327 -0.03951085 -0.05281807 -0.01351549\n",
      " -0.00735743 -0.00184974  0.00154075  0.03196495  0.01467646  0.00751564\n",
      "  0.01030986  0.04094914 -0.00632193  0.04359678  0.02894314  0.0377494\n",
      " -0.046505    0.00212728 -0.05372168  0.02992785 -0.03292434 -0.00231711\n",
      "  0.03414449  0.01041867 -0.03054366  0.00361347 -0.01548796 -0.01047803\n",
      " -0.05943028  0.01141744  0.01239363 -0.02251298  0.02521448 -0.00309826\n",
      " -0.03358409 -0.01342434  0.02659287  0.03044816 -0.02572155  0.04439327\n",
      "  0.05857688 -0.03088704  0.07434192  0.01207876  0.01955702  0.00567163\n",
      " -0.02585056 -0.00422631  0.02433736 -0.00110587  0.00335111 -0.0133413\n",
      "  0.02208386  0.03418224 -0.01847231 -0.01287269  0.02731828  0.04082891\n",
      " -0.04424036 -0.0123917  -0.01912962 -0.00030401  0.00082489  0.00307354\n",
      " -0.01498817 -0.02643386 -0.00391588 -0.02818665  0.01041754 -0.03048072\n",
      " -0.01448693  0.01102348 -0.05890511  0.03012042 -0.01571692  0.05132304\n",
      "  0.0157263   0.02149853  0.00865969  0.04103897  0.04071431  0.02154787\n",
      " -0.04318077  0.03188026  0.01641731  0.02734176 -0.02728436 -0.00669977\n",
      "  0.027103    0.02406877  0.02142073 -0.02736968 -0.00400059  0.03155533\n",
      " -0.00846151 -0.00308628  0.01529253  0.01967776 -0.0345774   0.05936443\n",
      " -0.05378474 -0.01599512 -0.03099884  0.00191311  0.00434345 -0.02129692\n",
      "  0.05803334  0.03904881  0.02321316  0.05991347 -0.01877986  0.0143879\n",
      "  0.07394364 -0.02329041 -0.03205235  0.00160233  0.00209978 -0.04594813\n",
      "  0.01936423  0.04237022  0.03948895 -0.04701857  0.09914415  0.01737855\n",
      "  0.02903933  0.03725906  0.00082367 -0.02622559 -0.02633123 -0.02547448\n",
      "  0.02676222  0.04482448  0.02990537  0.01179856  0.00588224 -0.01214581\n",
      "  0.02174456  0.05568173  0.01161134  0.02530954 -0.00096668 -0.021811\n",
      " -0.02231435  0.01023846  0.01264196  0.00716321 -0.03326005  0.02171693\n",
      "  0.0460056   0.00866959 -0.01260924  0.00889479 -0.07711159 -0.02215295\n",
      " -0.01955489  0.05902997  0.02496115 -0.02439035 -0.00801654  0.03894518\n",
      "  0.0001438  -0.0225449  -0.01183901 -0.03408262 -0.05565265 -0.00934049]\n"
     ]
    }
   ],
   "source": [
    "from numpy import linalg as la\n",
    "\n",
    "print(la.norm(pm.w2v.syn0[0] * 0.5))\n",
    "print(pm.w2v.syn0[0] * 0.5)\n"
   ]
  }
 ],
 "metadata": {
  "kernelspec": {
   "display_name": "Python 3",
   "language": "python",
   "name": "python3"
  },
  "language_info": {
   "codemirror_mode": {
    "name": "ipython",
    "version": 3
   },
   "file_extension": ".py",
   "mimetype": "text/x-python",
   "name": "python",
   "nbconvert_exporter": "python",
   "pygments_lexer": "ipython3",
   "version": "3.6.1"
  }
 },
 "nbformat": 4,
 "nbformat_minor": 1
}
