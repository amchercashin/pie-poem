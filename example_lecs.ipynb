{
 "cells": [
  {
   "cell_type": "markdown",
   "metadata": {},
   "source": [
    "# Ежи Лец - дистрибутивно-семантический поиск по цитатам"
   ]
  },
  {
   "cell_type": "markdown",
   "metadata": {},
   "source": [
    "## Загрузка моделей"
   ]
  },
  {
   "cell_type": "code",
   "execution_count": 31,
   "metadata": {},
   "outputs": [
    {
     "name": "stderr",
     "output_type": "stream",
     "text": [
      "2017-06-20 16:45:53,786 : INFO : loading projection weights from c:/data/ruscorpora_1_300_10.bin.gz\n"
     ]
    },
    {
     "name": "stdout",
     "output_type": "stream",
     "text": [
      "loading w2v_model...\n"
     ]
    },
    {
     "name": "stderr",
     "output_type": "stream",
     "text": [
      "2017-06-20 16:46:11,390 : INFO : loaded (161301, 300) matrix from c:/data/ruscorpora_1_300_10.bin.gz\n"
     ]
    },
    {
     "name": "stdout",
     "output_type": "stream",
     "text": [
      "word2vec model 'c:/data/ruscorpora_1_300_10.bin.gz' loaded\n",
      "reading pickle poems model...\n",
      "vectorizing model...\n",
      "model is loaded\n"
     ]
    }
   ],
   "source": [
    "from poems_model import PoemsModel\n",
    "\n",
    "poems_data_file = './data/lecs.pickle'\n",
    "w2v_file = 'c:/data/ruscorpora_1_300_10.bin.gz'\n",
    "\n",
    "pm = PoemsModel(poems_data_file, w2v_file)\n"
   ]
  },
  {
   "cell_type": "markdown",
   "metadata": {},
   "source": [
    "## Формирование запроса"
   ]
  },
  {
   "cell_type": "code",
   "execution_count": 32,
   "metadata": {
    "collapsed": true
   },
   "outputs": [],
   "source": [
    "# Python 3.6\n",
    "\n",
    "def print_similar(query: str) -> None:\n",
    "    for poem, similarity in pm.similar_poems(query, topn=10): \n",
    "        print(f'{poem}\\n\\t{similarity}')"
   ]
  },
  {
   "cell_type": "code",
   "execution_count": 33,
   "metadata": {},
   "outputs": [
    {
     "name": "stdout",
     "output_type": "stream",
     "text": [
      "Электронный мозг будет думать за нас точно так же, как электрический стул за нас умирает.\n",
      "\t0.20256975089089257\n",
      "Какие-нибудь будущие дарвины быть может, выдвинут тезис, что высокоразвитые существа (к которым будут принадлежать) происходят от людей. Это будет огромным шоком!\n",
      "\t0.16926709667591766\n",
      "Изучай опыт орнитологов: чтобы писатели могли расправить крылья, они должны получить возможность пользоваться перьями.\n",
      "\t0.1628055111282354\n",
      "Распространять правду можно было бы устно, для популяризации лжи обычно используется большой аппарат.\n",
      "\t0.15428913625200064\n",
      "Для старого Рокфеллера издавали специальную газету, заполненную вымышленными новостями. Некоторые страны в состоянии издавать такие газеты не только для миллиардеров, но для всего населения.\n",
      "\t0.1490616039796309\n",
      "Один содомист возбуждал себя разглядыванием учебника зоологии. Следует ли признать эту книгу порнографической?\n",
      "\t0.14850083434122147\n",
      "Верю в прогресс: будут изобретены машины для чтения мыслей, еще не пришедших в голову.\n",
      "\t0.14803181021200465\n",
      "Государство, заранее знающее даты смерти своих граждан, может вести в высшей степени плановое хозяйство.\n",
      "\t0.14726930022464016\n",
      "Со времени создания человека все усовершенствования в его конструкции ограничиваются протезами.\n",
      "\t0.14569007706735043\n",
      "Организм человека не в состоянии вместить одновременно и алкоголь, и антисемитизм: стоит ввести в него немного алкоголя, и антисемитизм тут же вылезает наружу.\n",
      "\t0.14411730483780105\n"
     ]
    }
   ],
   "source": [
    "print_similar('компьютер')"
   ]
  }
 ],
 "metadata": {
  "kernelspec": {
   "display_name": "Python 3",
   "language": "python",
   "name": "python3"
  },
  "language_info": {
   "codemirror_mode": {
    "name": "ipython",
    "version": 3
   },
   "file_extension": ".py",
   "mimetype": "text/x-python",
   "name": "python",
   "nbconvert_exporter": "python",
   "pygments_lexer": "ipython3",
   "version": "3.6.1"
  }
 },
 "nbformat": 4,
 "nbformat_minor": 2
}
